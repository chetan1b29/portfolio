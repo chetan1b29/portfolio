{
 "cells": [
  {
   "cell_type": "markdown",
   "metadata": {},
   "source": [
    "### Imports"
   ]
  },
  {
   "cell_type": "code",
   "execution_count": null,
   "metadata": {
    "ExecuteTime": {
     "end_time": "2021-04-27T21:04:23.750854Z",
     "start_time": "2021-04-27T21:04:23.637169Z"
    }
   },
   "outputs": [],
   "source": [
    "import pandas as pd\n",
    "import numpy as np\n",
    "from pandas import json_normalize\n",
    "from functools import partial\n",
    "from geopy.geocoders import Nominatim\n",
    "from utils.mongo_conn import MongoConnect\n",
    "from IPython.core.display import display\n",
    "import logging\n",
    "import datetime as dt\n",
    "import ipywidgets as widgets\n",
    "from utils.postgre_conn import PostgresConnect\n",
    "import warnings\n",
    "warnings.filterwarnings('ignore')"
   ]
  },
  {
   "cell_type": "code",
   "execution_count": null,
   "metadata": {
    "ExecuteTime": {
     "end_time": "2021-04-27T14:56:03.611169Z",
     "start_time": "2021-04-27T14:56:03.607261Z"
    }
   },
   "outputs": [],
   "source": [
    "logging.basicConfig(filename='./logs/drugs_errors.log', level=logging.INFO)"
   ]
  },
  {
   "cell_type": "markdown",
   "metadata": {},
   "source": [
    "### Connecting to Mongo"
   ]
  },
  {
   "cell_type": "code",
   "execution_count": null,
   "metadata": {
    "ExecuteTime": {
     "end_time": "2021-04-27T14:56:05.343114Z",
     "start_time": "2021-04-27T14:56:05.312153Z"
    }
   },
   "outputs": [],
   "source": [
    "recall_mongo_conn = MongoConnect('team_G_db_mongo_final_1', 'drugs_recalled')\n",
    "recall_collection = recall_mongo_conn.connect()\n",
    "\n",
    "drugs_event_conn = MongoConnect('team_G_db_mongo_final_1', 'drugs_event')\n",
    "event_collection = drugs_event_conn.connect()\n",
    "\n",
    "label_mongo_conn = MongoConnect('team_G_db_mongo_final_1', 'Drugs_Product_Label')\n",
    "drug_product_labelling = label_mongo_conn.connect()"
   ]
  },
  {
   "cell_type": "markdown",
   "metadata": {},
   "source": [
    "### Drugs Enforcement"
   ]
  },
  {
   "cell_type": "code",
   "execution_count": null,
   "metadata": {
    "ExecuteTime": {
     "end_time": "2021-04-27T14:56:11.650570Z",
     "start_time": "2021-04-27T14:56:10.375489Z"
    }
   },
   "outputs": [],
   "source": [
    "status_label = widgets.Label('Starting Data Cleaning... Working on Recalls Enforced Data!')\n",
    "display(status_label)\n",
    "progress_bar = widgets.IntProgress(min=0, max=21, bar_style='info') # instantiate the bar\n",
    "display(widgets.HBox([widgets.Label('Progress:'),progress_bar]))\n",
    "drugs_recalled_df = json_normalize(recall_collection.find())\n"
   ]
  },
  {
   "cell_type": "markdown",
   "metadata": {},
   "source": [
    "#### Replacing Blanks and dropping Nulls"
   ]
  },
  {
   "cell_type": "code",
   "execution_count": null,
   "metadata": {
    "ExecuteTime": {
     "end_time": "2021-04-27T14:56:14.476251Z",
     "start_time": "2021-04-27T14:56:14.208499Z"
    }
   },
   "outputs": [],
   "source": [
    "drugs_recalled_df = drugs_recalled_df.replace(\"\", np.nan)\n",
    "def drop_cols(df, null_percentage):\n",
    "    '''The function drops the columns which have null percentage greater than given null percentage by the user,\n",
    "    INPUTS:\n",
    "        df = The dataframe from which columns need to be dropped\n",
    "        null_percentage = A numerical figure provided by user which acts as a threshold for null_percenatge \n",
    "    OUTPUT\n",
    "        The function returns True if all columns are dropped successfully else it returns False\n",
    "    '''\n",
    "    try:\n",
    "        total_rows = len(df)\n",
    "        for column in df.columns:\n",
    "            if (df[column].isnull().sum() / total_rows)*100> null_percentage and column!='brand_name':\n",
    "                df.drop(columns=column, inplace=True)\n",
    "        return True\n",
    "    except Exception as e:\n",
    "        logging.error(\"Exception occurred at drop_cols\", exc_info=True)\n",
    "        return False\n",
    "drop_cols(drugs_recalled_df, 85)\n",
    "progress_bar.value+=1"
   ]
  },
  {
   "cell_type": "markdown",
   "metadata": {},
   "source": [
    "#### Getting values from lists in columns"
   ]
  },
  {
   "cell_type": "code",
   "execution_count": null,
   "metadata": {
    "ExecuteTime": {
     "end_time": "2021-04-28T21:06:31.856207Z",
     "start_time": "2021-04-28T21:06:31.601631Z"
    }
   },
   "outputs": [],
   "source": [
    "''' The columns in the dataframe contains unstructured data, in form of lists,\n",
    "using string replace to get values from those lists.'''\n",
    "try:\n",
    "    \n",
    "    col_list = [col for col in drugs_recalled_df.columns if 'openfda' in col]\n",
    "\n",
    "    for column in col_list:\n",
    "        col = column.split('.')[1]\n",
    "        drugs_recalled_df[col] = drugs_recalled_df[column].astype('str').apply(lambda x: x.replace(\"'\", \"\").replace('[','').replace(']','') if x!='nan' else None)\n",
    "        drugs_recalled_df.drop(columns = column, inplace=True)\n",
    "\n",
    "    drugs_recalled_df.drop(columns = [ '_id', 'product_type'], inplace=True)#Dropping redundant columns\n",
    "except Exception as e:\n",
    "    logging.error(\"Exception occurred at list to data convetrsion\", exc_info=True)\n",
    "    \n",
    "    "
   ]
  },
  {
   "cell_type": "code",
   "execution_count": null,
   "metadata": {
    "ExecuteTime": {
     "end_time": "2021-04-28T21:06:31.858161Z",
     "start_time": "2021-04-28T21:06:31.646Z"
    }
   },
   "outputs": [],
   "source": [
    "drugs_recalled_df['country'].fillna(list(drugs_recalled_df[drugs_recalled_df['recalling_firm']=='Pfizer Inc.']['country'])[0], inplace=True)\n",
    "drugs_recalled_df['city'].fillna(list(drugs_recalled_df[drugs_recalled_df['recalling_firm']=='Pfizer Inc.']['city'])[0], inplace=True)\n",
    "drugs_recalled_df['address_1'].fillna(list(drugs_recalled_df[drugs_recalled_df['recalling_firm']=='Pfizer Inc.']['address_1'])[0], inplace=True)\n",
    "\n",
    "progress_bar.value+=1"
   ]
  },
  {
   "cell_type": "markdown",
   "metadata": {},
   "source": [
    "#### Converting Datetime Columns"
   ]
  },
  {
   "cell_type": "code",
   "execution_count": null,
   "metadata": {
    "ExecuteTime": {
     "end_time": "2021-04-27T14:56:34.330429Z",
     "start_time": "2021-04-27T14:56:34.260086Z"
    }
   },
   "outputs": [],
   "source": [
    "try:\n",
    "    date_cols = [col for col in drugs_recalled_df.columns if 'date' in col][:-1]\n",
    "    for column in date_cols:\n",
    "        drugs_recalled_df[column] = pd.to_datetime(drugs_recalled_df[column], format = '%Y%m%d')\n",
    "except Exception as e:\n",
    "    logging.error(\"Exception occurred at conversion to datetime!\", exc_info=True)\n",
    "    \n",
    "progress_bar.value+=1"
   ]
  },
  {
   "cell_type": "markdown",
   "metadata": {},
   "source": [
    "#### Getting Labels from reason_for_recall"
   ]
  },
  {
   "cell_type": "code",
   "execution_count": null,
   "metadata": {
    "ExecuteTime": {
     "end_time": "2021-04-27T14:56:35.954656Z",
     "start_time": "2021-04-27T14:56:35.851536Z"
    }
   },
   "outputs": [],
   "source": [
    "drugs_recalled_df['reason_main'] = pd.Series(drugs_recalled_df['reason_for_recall'].str.split('[:;.]').str.get(0)).str.upper()\n",
    "drugs_recalled_df['reason_description'] = drugs_recalled_df['reason_for_recall'].str.split('[:;.]').apply(lambda x: \"\".join(x[1:]))\n",
    "drugs_recalled_df.drop(columns = ['reason_for_recall'], inplace=True)\n",
    "progress_bar.value+=1"
   ]
  },
  {
   "cell_type": "markdown",
   "metadata": {},
   "source": [
    "#### Filling blank states with Actual State"
   ]
  },
  {
   "cell_type": "code",
   "execution_count": null,
   "metadata": {
    "ExecuteTime": {
     "end_time": "2021-04-27T14:57:52.307438Z",
     "start_time": "2021-04-27T14:57:17.468333Z"
    }
   },
   "outputs": [],
   "source": [
    "'''\n",
    "The state column contains nulls, but that record holds values for city and country. Using these values,\n",
    "the function tries to get name of the state using the geopy.\n",
    "'''\n",
    "\n",
    "geolocator = Nominatim(user_agent=\"Google\")\n",
    "def get_state(x):\n",
    "    geocode = partial(geolocator.geocode, language=\"es\")\n",
    "    loc = geocode(x)\n",
    "    if loc is None:\n",
    "        return loc\n",
    "    else:\n",
    "        state = loc[0].split(',')[-2].strip()\n",
    "        if state.isnumeric():\n",
    "            state = loc[0].split(',')[-3].strip()\n",
    "        return state\n",
    "city_list = drugs_recalled_df[drugs_recalled_df['state'].isnull()]['city'].unique()\n",
    "state_dict={}\n",
    "\n",
    "\n",
    "try:\n",
    "    for city in city_list:\n",
    "        state_dict[city] = get_state(city)\n",
    "        for city, state in state_dict.items():\n",
    "            drugs_recalled_df.loc[(drugs_recalled_df['city']==city) & (drugs_recalled_df['state'].isnull()), 'state']= state\n",
    "except Exception as e:\n",
    "    logging.error(\"Exception occurred while finding states!\", exc_info=True)\n",
    "    \n",
    "progress_bar.value+=1"
   ]
  },
  {
   "cell_type": "markdown",
   "metadata": {},
   "source": [
    "#### Creating Time_delta column"
   ]
  },
  {
   "cell_type": "code",
   "execution_count": null,
   "metadata": {
    "ExecuteTime": {
     "end_time": "2021-04-27T14:57:58.868224Z",
     "start_time": "2021-04-27T14:57:58.856502Z"
    }
   },
   "outputs": [],
   "source": [
    "drugs_recalled_df['time_diff'] = drugs_recalled_df['termination_date']-drugs_recalled_df['recall_initiation_date']\n",
    "drugs_recalled_df['voluntary_mandated'] = drugs_recalled_df['voluntary_mandated'].str.upper()\n",
    "progress_bar.value+=1"
   ]
  },
  {
   "cell_type": "markdown",
   "metadata": {},
   "source": [
    "### Drug Events"
   ]
  },
  {
   "cell_type": "code",
   "execution_count": null,
   "metadata": {
    "ExecuteTime": {
     "end_time": "2021-04-27T14:58:36.010489Z",
     "start_time": "2021-04-27T14:58:19.484653Z"
    }
   },
   "outputs": [],
   "source": [
    "status_label.value = 'Cleaning Drug Events data... Kindly wait!'\n",
    "df=pd.DataFrame(event_collection.find()) \n",
    "#normalizing data to retrieve qualification and reporter country, nested inside primarysource\n",
    "df2 = pd.json_normalize(df[\"primarysource\"])\n",
    "df = pd.concat([df, df2.reindex(df.index)], axis=1)\n",
    "\n",
    "#normalizing to retrieve the patient's age and sex from patient\n",
    "df3 = pd.json_normalize(df[\"patient\"])\n",
    "df = pd.concat([df, df3[df3.columns[:3]].reindex(df.index)], axis=1)\n",
    "\n",
    "progress_bar.value+=1"
   ]
  },
  {
   "cell_type": "code",
   "execution_count": null,
   "metadata": {
    "ExecuteTime": {
     "end_time": "2021-04-27T14:58:39.219530Z",
     "start_time": "2021-04-27T14:58:39.212680Z"
    }
   },
   "outputs": [],
   "source": [
    "country = []\n",
    "companynumb = []\n",
    "safety_report_id = []\n",
    "serious = []\n",
    "drug_event_date = []\n",
    "qualification = []\n",
    "seriousness_disabling = []\n",
    "seriousness_other = []\n",
    "seriousness_hospitalization = []\n",
    "seriousness_lifethreatening = []\n",
    "seriousness_congenitalanomali = []\n",
    "patient_age = []\n",
    "patient_sex = []\n",
    "drug_event_date =[]\n",
    "\n",
    "companynumb = df[\"companynumb\"]\n",
    "safety_report_id = df[\"safetyreportid\"]\n",
    "serious = df[\"serious\"]\n",
    "drug_event_date = df[\"receiptdate\"]\n",
    "qualification = df[\"qualification\"]\n",
    "country = df[\"reportercountry\"]\n",
    "seriousness_disabling = df[\"seriousnessdisabling\"]\n",
    "seriousness_other = df[\"seriousnessother\"]\n",
    "seriousness_hospitalization = df[\"seriousnesshospitalization\"]\n",
    "seriousness_lifethreatening = df[\"seriousnesslifethreatening\"]\n",
    "seriousness_congenitalanomali = df[\"seriousnesscongenitalanomali\"]\n",
    "patient_age = df[\"patientonsetage\"]\n",
    "patient_sex = df[\"patientsex\"]\n",
    "drug_event_date = df[\"receivedate\"]"
   ]
  },
  {
   "cell_type": "code",
   "execution_count": null,
   "metadata": {
    "ExecuteTime": {
     "end_time": "2021-04-27T15:00:31.506689Z",
     "start_time": "2021-04-27T15:00:31.440814Z"
    }
   },
   "outputs": [],
   "source": [
    "drug_event_details=pd.DataFrame({\"safety_report_id\":safety_report_id,\n",
    "                                 \"drug_event_date\":drug_event_date, \n",
    "                                 \"qualification\":qualification, \n",
    "                                 \"country\":country, \n",
    "                                 \"companynumb\":companynumb, \n",
    "                                 \"patient_age\":patient_age, \n",
    "                                 \"patient_sex\":patient_sex,\n",
    "                                 \"serious\":serious, \n",
    "                                 \"seriousness_disabling\":seriousness_disabling, \n",
    "                                 \"seriousness_other\":seriousness_other, \n",
    "                                 \"seriousness_hospitalization\":seriousness_hospitalization, \n",
    "                                 \"seriousness_lifethreatening\":seriousness_lifethreatening, \n",
    "                                 \"seriousness_congenitalanomali\":seriousness_congenitalanomali\n",
    "                                 })  \n",
    "drug_event_details=drug_event_details.drop_duplicates()\n",
    "\n",
    "progress_bar.value+=1"
   ]
  },
  {
   "cell_type": "code",
   "execution_count": null,
   "metadata": {
    "ExecuteTime": {
     "end_time": "2021-04-27T15:00:41.821549Z",
     "start_time": "2021-04-27T15:00:32.981114Z"
    }
   },
   "outputs": [],
   "source": [
    "'''Retrieving the drug medicinal names reported by each user and extracting the user safetyreportid to keep track'''\n",
    "drug=[]\n",
    "safety_drug_id=[]\n",
    "drug_event_date_merge=[]\n",
    "for i in range(0,len(df)):\n",
    "    \n",
    "    for j in range(0,len(df.iloc[i][\"patient\"][\"drug\"])):\n",
    "        \n",
    "        drug_event_date_merge.append(drug_event_date[i])\n",
    "        safety_drug_id.append(safety_report_id[i])\n",
    "        drug.append(df.iloc[i][\"patient\"][\"drug\"][j][\"medicinalproduct\"])\n",
    "progress_bar.value+=1"
   ]
  },
  {
   "cell_type": "code",
   "execution_count": null,
   "metadata": {
    "ExecuteTime": {
     "end_time": "2021-04-27T15:00:50.597156Z",
     "start_time": "2021-04-27T15:00:42.980771Z"
    }
   },
   "outputs": [],
   "source": [
    "'''Retrieving the combined drug reaction reported by each user and extracting the user safetyreportid to keep track'''\n",
    "reactions=[]\n",
    "safety_reaction_id=[]\n",
    "\n",
    "for i in range(0,len(df)):              \n",
    "    for k in range(0,len(df.iloc[i][\"patient\"][\"reaction\"])):\n",
    "        \n",
    "        safety_reaction_id.append(safety_report_id[i])\n",
    "        reactions.append(df.iloc[i][\"patient\"][\"reaction\"][k][\"reactionmeddrapt\"])\n",
    "progress_bar.value+=1"
   ]
  },
  {
   "cell_type": "code",
   "execution_count": null,
   "metadata": {
    "ExecuteTime": {
     "end_time": "2021-04-27T15:00:52.572990Z",
     "start_time": "2021-04-27T15:00:52.494829Z"
    }
   },
   "outputs": [],
   "source": [
    "mode_country=drug_event_details[\"country\"].mode()\n",
    "drug_event_details['country'] = drug_event_details['country'].replace(['COUNTRY NOT SPECIFIED'],mode_country)\n",
    "\n",
    "median_age = drug_event_details[\"patient_age\"].median()\n",
    "drug_event_details['patient_age'] = drug_event_details['patient_age'].replace(['nan'],median_age.astype(int))\n",
    "\n",
    "mode_sex =drug_event_details[\"patient_sex\"].mode()\n",
    "m=mode_sex.astype(str)\n",
    "drug_event_details['patient_sex'] = drug_event_details['patient_sex'].replace(['nan'],m)\n",
    "\n",
    "drug_event_details['patient_sex'] = drug_event_details['patient_sex'].replace(['2'],\"FEMALE\")\n",
    "\n",
    "drug_event_details['patient_sex'] = drug_event_details['patient_sex'].replace(['0'],\"NOT SPECIFIED\")\n",
    "\n",
    "mode_qualification=drug_event_details[\"qualification\"].mode()\n",
    "m=mode_qualification.astype(str)\n",
    "drug_event_details['qualification'] = drug_event_details['qualification'].replace(['nan'],m)\n",
    "\n",
    "drug_event_details['qualification'] = drug_event_details['qualification'].replace(['5'],\"CONSUMER\")\n",
    "\n",
    "drug_event_details['qualification'] = drug_event_details['qualification'].replace(['1'],\"HEALTHCARE PROFESSIONAL\")\n",
    "\n",
    "drug_event_details['qualification'] = drug_event_details['qualification'].replace(['3'],\"NOT SPECIFIED\")\n",
    "\n",
    "drug_event_details['qualification'] = drug_event_details['qualification'].replace(['4'],\"NOT SPECIFIED\")\n",
    "\n",
    "drug_event_details['qualification'] = drug_event_details['qualification'].replace(['2'],\"OTHERS\")\n",
    "\n",
    "drug_event_details[\"drug_event_date\"]=pd.to_datetime(drug_event_details[\"drug_event_date\"],format='%Y-%m-%d')\n",
    "\n",
    "drug_event_details[\"drug_event_year\"] = drug_event_details[\"drug_event_date\"].dt.year\n",
    "\n",
    "drug_event_details[\"drug_event_year\"] = drug_event_details[\"drug_event_date\"].dt.year\n",
    "\n",
    "drug_event_details[\"index\"] = drug_event_details.index\n",
    "\n",
    "\n",
    "progress_bar.value+=1"
   ]
  },
  {
   "cell_type": "code",
   "execution_count": null,
   "metadata": {
    "ExecuteTime": {
     "end_time": "2021-04-27T15:41:40.053341Z",
     "start_time": "2021-04-27T15:41:39.710338Z"
    }
   },
   "outputs": [],
   "source": [
    "'''\n",
    "* Creation of new dataframe called drug list, since a patient can report multiple drugs.\n",
    "* Creation of dataframe is done in such a way that it is mapped with patient's safety_report_id and the date it has got generated.\n",
    "* By this we can collect information of each patient's details through drug_event_details.\n",
    "'''\n",
    "drug_list = pd.DataFrame({\"safety_report_id\":safety_drug_id,\"brand_name\":drug,\"drug_event_date\":drug_event_date_merge})\n",
    "# print(len(drug_list))\n",
    "drug_list = drug_list.drop_duplicates()\n",
    "# print(len(drug_list))"
   ]
  },
  {
   "cell_type": "code",
   "execution_count": null,
   "metadata": {
    "ExecuteTime": {
     "end_time": "2021-04-27T15:01:22.905728Z",
     "start_time": "2021-04-27T15:01:22.808991Z"
    }
   },
   "outputs": [],
   "source": [
    "\n",
    "drug_list[\"drug_event_date\"] = pd.to_datetime(drug_list[\"drug_event_date\"],format='%Y-%m-%d')\n",
    "drug_list[\"year\"] = drug_list[\"drug_event_date\"].dt.year\n",
    "\n",
    "'''* Creation of dataframe for reactions which gives us the combined reaction of the drug used by a user'''\n",
    "\n",
    "drug_event_reactions=pd.DataFrame({\"safety_report_id\":safety_reaction_id, \"reactions\":reactions})\n",
    "drug_event_reactions = drug_event_reactions.drop_duplicates()\n",
    "\n",
    "progress_bar.value+=1"
   ]
  },
  {
   "cell_type": "markdown",
   "metadata": {},
   "source": [
    "### Drugs Labels"
   ]
  },
  {
   "cell_type": "code",
   "execution_count": null,
   "metadata": {
    "ExecuteTime": {
     "end_time": "2021-04-27T15:03:24.593681Z",
     "start_time": "2021-04-27T15:03:12.132846Z"
    }
   },
   "outputs": [],
   "source": [
    "status_label.value = 'Data Preparation for Events Dataset completed! Starting cleaning process for Labels Dataset...'\n",
    "drug_df = json_normalize(list(drug_product_labelling.find()))\n",
    "'''Extracting brand_name, manufacturer_name, product_type from the openfda column'''\n",
    "drug_df['brand_name'] = drug_df['openfda.brand_name'].str.get(0)\n",
    "drug_df.drop(columns = ['openfda.brand_name'], inplace=True)\n",
    "\n",
    "drug_df['manufacturer_name'] = drug_df['openfda.manufacturer_name'].str.get(0)\n",
    "drug_df.drop(columns = ['openfda.manufacturer_name'], inplace=True)\n",
    "\n",
    "drug_df['product_type'] = drug_df['openfda.product_type'].str.get(0)\n",
    "drug_df.drop(columns = ['openfda.product_type'], inplace=True)\n",
    "progress_bar.value+=1"
   ]
  },
  {
   "cell_type": "code",
   "execution_count": null,
   "metadata": {
    "ExecuteTime": {
     "end_time": "2021-04-27T15:03:35.169057Z",
     "start_time": "2021-04-27T15:03:34.640861Z"
    }
   },
   "outputs": [],
   "source": [
    "status_label.value = 'Cleaning Labels Dataset... Kindly wait!'\n",
    "drug_df['inactive_ingredient'] = drug_df['inactive_ingredient'].astype('str').apply(lambda x: x.replace(\"'\", \"\").replace('[','').replace(']','') if x!='nan' else None)\n",
    "\n",
    "drug_df['pregnancy_or_breast_feeding'] = drug_df['pregnancy_or_breast_feeding'].astype('str').apply(lambda x: x.replace(\"'\", \"\").replace('[','').replace(']','') if x!='nan' else None)\n",
    "\n",
    "drug_df['indications_and_usage'] = drug_df['indications_and_usage'].astype('str').apply(lambda x: x.replace(\"'\", \"\").replace('[','').replace(']','') if x!='nan' else None)\n",
    "\n",
    "drug_df['keep_out_of_reach_of_children'] = drug_df['keep_out_of_reach_of_children'].astype('str').apply(lambda x: x.replace(\"'\", \"\").replace('[','').replace(']','') if x!='nan' else None)\n",
    "\n",
    "drug_df['warnings'] = drug_df['warnings'].astype('str').apply(lambda x: x.replace(\"'\", \"\").replace('[','').replace(']','') if x!='nan' else None)\n",
    "\n",
    "drug_df['stop_use'] = drug_df['stop_use'].astype('str').apply(lambda x: x.replace(\"'\", \"\").replace('[','').replace(']','') if x!='nan' else None)\n",
    "\n",
    "drug_df['do_not_use'] = drug_df['do_not_use'].astype('str').apply(lambda x: x.replace(\"'\", \"\").replace('[','').replace(']','') if x!='nan' else None)\n",
    "\n",
    "drug_df['precautions'] = drug_df['precautions'].astype('str').apply(lambda x: x.replace(\"'\", \"\").replace('[','').replace(']','') if x!='nan' else None)\n",
    "\n",
    "progress_bar.value+=1"
   ]
  },
  {
   "cell_type": "code",
   "execution_count": null,
   "metadata": {
    "ExecuteTime": {
     "end_time": "2021-04-27T21:04:37.480689Z",
     "start_time": "2021-04-27T21:04:35.913376Z"
    }
   },
   "outputs": [],
   "source": [
    "final_drug = drug_df[['brand_name','effective_time','pregnancy_or_breast_feeding','manufacturer_name','product_type','indications_and_usage','keep_out_of_reach_of_children','warnings','stop_use','do_not_use','precautions']]\n",
    "\n",
    "'''classifying the data's to True or False for making it more easier to analyse'''\n",
    "\n",
    "final_drug['pregnancy_or_breast_feeding']=np.where(final_drug['pregnancy_or_breast_feeding'].isnull(), False, True)\n",
    "final_drug['keep_out_of_reach_of_children']=np.where(final_drug['keep_out_of_reach_of_children'].isnull(), False, True)\n",
    "final_drug['stop_use']=np.where(final_drug['stop_use'].isnull(), False, True)\n",
    "final_drug['do_not_use']=np.where(final_drug['do_not_use'].isnull(), False, True)\n",
    "\n",
    "\n",
    "progress_bar.value+=1"
   ]
  },
  {
   "cell_type": "code",
   "execution_count": null,
   "metadata": {
    "ExecuteTime": {
     "end_time": "2021-04-27T15:04:30.120104Z",
     "start_time": "2021-04-27T15:04:30.074171Z"
    }
   },
   "outputs": [],
   "source": [
    "'''extracting year,month and date from effective_time column into three different columns and then droping it\n",
    "'''\n",
    "final_drug[\"effective_year\"] = pd.to_datetime(final_drug[\"effective_time\"]).dt.year\n",
    "final_drug[\"effective_month\"] = pd.to_datetime(final_drug[\"effective_time\"]).dt.month\n",
    "final_drug[\"effective_day\"] = pd.to_datetime(final_drug[\"effective_time\"]).dt.day\n",
    "\n",
    "final_drug.drop([\"effective_time\"], axis = 1, inplace = True)\n",
    "\n",
    "\n",
    "\n",
    "final_drug['warning_s'] = final_drug['warnings'].apply(lambda n: len(str(n).split(' ')))\n",
    "final_drug=final_drug.dropna()\n",
    "\n",
    "\n",
    "progress_bar.value+=1\n",
    "status_label.value = 'Data Cleaning complete! Loading data to PostgreSQL'"
   ]
  },
  {
   "cell_type": "markdown",
   "metadata": {},
   "source": [
    "### Dumping Data to Postgres"
   ]
  },
  {
   "cell_type": "code",
   "execution_count": null,
   "metadata": {
    "ExecuteTime": {
     "end_time": "2021-04-27T15:29:48.209122Z",
     "start_time": "2021-04-27T15:28:41.314720Z"
    }
   },
   "outputs": [],
   "source": [
    "db_connection_dict = {    'drivername' : 'postgres',\n",
    "    'host'      : '192.168.56.30',\n",
    "    'port'      : '5432',\n",
    "    'database'  : 'team_G_db',\n",
    "    'username'  : 'dap',\n",
    "    'password'  : 'dap'\n",
    "}\n",
    "postgres_conn = PostgresConnect(db_connection_dict)\n",
    "postgres_conn.createDB_table('drugs_recalled', drugs_recalled_df)\n",
    "progress_bar.value+=1\n",
    "postgres_conn.createDB_table('drugs_event', drug_event_details)\n",
    "progress_bar.value+=1\n",
    "postgres_conn.createDB_table('drugs_event_lists', drug_list)\n",
    "progress_bar.value+=1\n",
    "postgres_conn.createDB_table('drugs_event_reaction', drug_event_reactions)\n",
    "progress_bar.value+=1\n",
    "postgres_conn.createDB_table('drug_labels', final_drug)\n",
    "progress_bar.value+=1\n",
    "progress_bar.bar_style = 'success'"
   ]
  }
 ],
 "metadata": {
  "kernelspec": {
   "display_name": "Python 3",
   "language": "python",
   "name": "python3"
  },
  "language_info": {
   "codemirror_mode": {
    "name": "ipython",
    "version": 3
   },
   "file_extension": ".py",
   "mimetype": "text/x-python",
   "name": "python",
   "nbconvert_exporter": "python",
   "pygments_lexer": "ipython3",
   "version": "3.8.5"
  },
  "toc": {
   "base_numbering": 1,
   "nav_menu": {},
   "number_sections": true,
   "sideBar": true,
   "skip_h1_title": false,
   "title_cell": "Table of Contents",
   "title_sidebar": "Contents",
   "toc_cell": false,
   "toc_position": {},
   "toc_section_display": true,
   "toc_window_display": true
  }
 },
 "nbformat": 4,
 "nbformat_minor": 4
}
