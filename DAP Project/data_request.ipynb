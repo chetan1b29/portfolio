{
 "cells": [
  {
   "cell_type": "markdown",
   "metadata": {},
   "source": [
    "### Imports"
   ]
  },
  {
   "cell_type": "code",
   "execution_count": 16,
   "metadata": {
    "ExecuteTime": {
     "end_time": "2021-04-27T12:56:46.062000Z",
     "start_time": "2021-04-27T12:56:46.038547Z"
    }
   },
   "outputs": [],
   "source": [
    "import pandas as pd\n",
    "import numpy as np\n",
    "import requests\n",
    "import logging\n",
    "import ipywidgets as widgets\n",
    "from utils.mongo_conn import MongoConnect\n",
    "from IPython.core.display import display\n",
    "from tqdm import tqdm"
   ]
  },
  {
   "cell_type": "code",
   "execution_count": 5,
   "metadata": {
    "ExecuteTime": {
     "end_time": "2021-04-27T12:40:11.827881Z",
     "start_time": "2021-04-27T12:40:11.823975Z"
    }
   },
   "outputs": [],
   "source": [
    "logging.basicConfig(filename='./logs/drugs_errors.log', level=logging.INFO)"
   ]
  },
  {
   "cell_type": "markdown",
   "metadata": {},
   "source": [
    "### Connection to MongoDB"
   ]
  },
  {
   "cell_type": "code",
   "execution_count": 32,
   "metadata": {
    "ExecuteTime": {
     "end_time": "2021-04-27T14:06:19.379478Z",
     "start_time": "2021-04-27T14:06:19.364825Z"
    }
   },
   "outputs": [],
   "source": [
    "recall_mongo_conn = MongoConnect('team_G_db_mongo_final_1', 'drugs_recalled')\n",
    "recall_collection = recall_mongo_conn.connect()\n",
    "\n",
    "drugs_event_conn = MongoConnect('team_G_db_mongo_final_1', 'drugs_event')\n",
    "event_collection = drugs_event_conn.connect()\n",
    "\n",
    "label_mongo_conn = MongoConnect('team_G_db_mongo_final_1', 'Drugs_Product_Label')\n",
    "drug_product_labelling = label_mongo_conn.connect()"
   ]
  },
  {
   "cell_type": "markdown",
   "metadata": {},
   "source": [
    "### Requests through API"
   ]
  },
  {
   "cell_type": "code",
   "execution_count": 4,
   "metadata": {
    "ExecuteTime": {
     "end_time": "2021-04-27T12:39:52.500628Z",
     "start_time": "2021-04-27T12:39:52.490863Z"
    }
   },
   "outputs": [
    {
     "data": {
      "application/vnd.jupyter.widget-view+json": {
       "model_id": "a44bc0851f2c48a688472284ffd9e98e",
       "version_major": 2,
       "version_minor": 0
      },
      "text/plain": [
       "Label(value='Requesting Data through API. This could take some time. Please wait!')"
      ]
     },
     "metadata": {},
     "output_type": "display_data"
    }
   ],
   "source": [
    "status_label = widgets.Label('Requesting Data through API. This could take some time. Please wait!')\n",
    "display(status_label)"
   ]
  },
  {
   "cell_type": "code",
   "execution_count": 33,
   "metadata": {
    "ExecuteTime": {
     "end_time": "2021-04-27T14:09:52.523411Z",
     "start_time": "2021-04-27T14:06:20.833972Z"
    },
    "scrolled": false
   },
   "outputs": [
    {
     "data": {
      "application/vnd.jupyter.widget-view+json": {
       "model_id": "bee9d39918174dfd83c7202860d2a2a8",
       "version_major": 2,
       "version_minor": 0
      },
      "text/plain": [
       "HBox(children=(Label(value='Progress:'), IntProgress(value=0, bar_style='info', max=25)))"
      ]
     },
     "metadata": {},
     "output_type": "display_data"
    }
   ],
   "source": [
    "####Requesting Data through API from FDA for all the three data sources\n",
    "recalled_data_url = 'https://api.fda.gov/drug/enforcement.json?api_key=jzBDRKRffIUITo0uKg9EEWqasttW2cDni2b7ncUB&limit=1000&skip='\n",
    "event_url = 'https://api.fda.gov/drug/event.json?api_key=ERMRbxTchMkRnHapeAM1Q0qVlXnNUXTIbFUE7948&limit=1000&skip='\n",
    "label_url = 'https://api.fda.gov/drug/label.json?api_key=GSwiympJkhfjzpbGwZp9GBrtS0caLj9E4UBSsYPq&limit=1000&skip='\n",
    "f = widgets.IntProgress(min=0, max=25, bar_style='info') # instantiate the bar\n",
    "display(widgets.HBox([widgets.Label('Progress:'),f]))\n",
    "try:\n",
    "    success=True\n",
    "    for skip_records in range(0,25000, 1000):\n",
    "        if skip_records<13000:\n",
    "            url_1 = recalled_data_url + str(skip_records)\n",
    "            response_recall = requests.get(url_1)\n",
    "            if response_recall.status_code == 200:\n",
    "                json_to_dump = response_recall.json()['results']\n",
    "                recall_collection.insert_many(json_to_dump)\n",
    "            else:\n",
    "                success=False\n",
    "                logging.info(\"Failed at mongo_connection\", exc_info=True)\n",
    "                break\n",
    "            url_2 = label_url+ str(skip_records)\n",
    "            response_label = requests.get(url_2)\n",
    "            if response_label.status_code == 200:\n",
    "                json_to_dump_label = response_label.json()['results']\n",
    "                drug_product_labelling.insert_many(json_to_dump_label)\n",
    "            else:\n",
    "                success=False\n",
    "                logging.info(\"Failed at mongo_connection\", exc_info=True)\n",
    "                break\n",
    "        url = event_url + str(skip_records)\n",
    "        response = requests.get(url)\n",
    "        if response.status_code == 200:\n",
    "            json_to_dump = response.json()['results']\n",
    "            event_collection.insert_many(json_to_dump)\n",
    "        else:\n",
    "            success=False\n",
    "            logging.info(\"Failed at mongo_connection\", exc_info=True)\n",
    "            break\n",
    "        f.value+=1\n",
    "    if success:\n",
    "        f.bar_style='success'\n",
    "        status_label.value='Load to MongoDB Successfull. Proceeding with Data Cleaning.'\n",
    "    else:\n",
    "        status_label.value='Failed to dump data to Mongo'\n",
    "except ConnectionError:\n",
    "    print('Unable to connect to source!. Try again after some time.')\n",
    "except:\n",
    "    print('Oh No, something went wrong! Check logs for info!')\n",
    "    logging.error(\"Exception occurred at mongo_connection\", exc_info=True)"
   ]
  },
  {
   "cell_type": "code",
   "execution_count": null,
   "metadata": {},
   "outputs": [],
   "source": []
  }
 ],
 "metadata": {
  "kernelspec": {
   "display_name": "Python 3",
   "language": "python",
   "name": "python3"
  },
  "language_info": {
   "codemirror_mode": {
    "name": "ipython",
    "version": 3
   },
   "file_extension": ".py",
   "mimetype": "text/x-python",
   "name": "python",
   "nbconvert_exporter": "python",
   "pygments_lexer": "ipython3",
   "version": "3.8.5"
  },
  "toc": {
   "base_numbering": 1,
   "nav_menu": {},
   "number_sections": true,
   "sideBar": true,
   "skip_h1_title": false,
   "title_cell": "Table of Contents",
   "title_sidebar": "Contents",
   "toc_cell": false,
   "toc_position": {},
   "toc_section_display": true,
   "toc_window_display": false
  }
 },
 "nbformat": 4,
 "nbformat_minor": 4
}
