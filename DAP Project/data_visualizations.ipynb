{
 "cells": [
  {
   "cell_type": "markdown",
   "metadata": {},
   "source": [
    "### Imports"
   ]
  },
  {
   "cell_type": "code",
   "execution_count": 1,
   "metadata": {
    "ExecuteTime": {
     "end_time": "2021-04-28T20:30:33.530334Z",
     "start_time": "2021-04-28T20:30:32.355732Z"
    }
   },
   "outputs": [],
   "source": [
    "import pandas as pd\n",
    "import numpy as np\n",
    "import logging\n",
    "import ipywidgets as widgets\n",
    "from utils.postgre_conn import PostgresConnect\n",
    "import plotly.graph_objects as go\n",
    "from IPython.core.display import display\n",
    "from re import search\n",
    "from plotly.subplots import make_subplots\n",
    "import plotly.express as px"
   ]
  },
  {
   "cell_type": "markdown",
   "metadata": {},
   "source": [
    "### Connecting To Postgres"
   ]
  },
  {
   "cell_type": "code",
   "execution_count": 2,
   "metadata": {
    "ExecuteTime": {
     "end_time": "2021-04-28T20:30:34.122938Z",
     "start_time": "2021-04-28T20:30:34.119031Z"
    }
   },
   "outputs": [],
   "source": [
    "db_connection_dict = {    'drivername' : 'postgres',\n",
    "    'host'      : '192.168.56.30',\n",
    "    'port'      : '5432',\n",
    "    'database'  : 'team_G_db',\n",
    "    'username'  : 'dap',\n",
    "    'password'  : 'dap'\n",
    "}\n",
    "postgres_conn = PostgresConnect(db_connection_dict)"
   ]
  },
  {
   "cell_type": "markdown",
   "metadata": {},
   "source": [
    "### Visuals on Drug Label Data"
   ]
  },
  {
   "cell_type": "code",
   "execution_count": null,
   "metadata": {
    "ExecuteTime": {
     "end_time": "2021-04-28T20:17:23.043856Z",
     "start_time": "2021-04-28T20:17:22.461800Z"
    }
   },
   "outputs": [],
   "source": [
    "query = 'Select * from drug_labels'\n",
    "final_drug  = postgres_conn.get_data(query)\n"
   ]
  },
  {
   "cell_type": "markdown",
   "metadata": {},
   "source": [
    "#### Scatter Plot"
   ]
  },
  {
   "cell_type": "code",
   "execution_count": null,
   "metadata": {},
   "outputs": [],
   "source": [
    "#Extracting top records which has a unique brand_names \n",
    "\n",
    "query = \"select distinct(brand_name), manufacturer_name, count(brand_name), warning_s from drug_labels group by manufacturer_name, brand_name, warning_s order by count desc\"\n",
    "grouped_data = postgres_conn.get_data(query)\n",
    "grouped_data = grouped_data.rename(columns = {0:'manufacturer_name', 1:'brand_name', 2:'Count', 3:'warning_s'})\n",
    "print(\"In this we are visualizing the manufacturer_name in which there are brand_names and\") \n",
    "print(\"the word count of the warning for each drug which is manufactured\")\n",
    "scatterplot = px.scatter(\n",
    "    data_frame=grouped_data.head(20),\n",
    "    x=\"warning_s\",\n",
    "    y=\"manufacturer_name\",\n",
    "    color=\"brand_name\",                                       \n",
    "    size = 'warning_s',\n",
    "    size_max=40,   \n",
    "    labels={\n",
    "         \"warning_s\": \"Number of words per warning\",\n",
    "         \"manufacturer_name\": \"Name of Manufacturer\",\n",
    "         \"brand_name\": \"Name of Brand\"\n",
    "     },\n",
    "    title = \"Warnings per Drug\"\n",
    ")\n",
    "\n",
    "scatterplot.show()\n",
    "    \n",
    "\n"
   ]
  },
  {
   "cell_type": "markdown",
   "metadata": {},
   "source": [
    "#### Sunburts Plot"
   ]
  },
  {
   "cell_type": "code",
   "execution_count": null,
   "metadata": {},
   "outputs": [],
   "source": [
    "if final_drug is not None:\n",
    "    print(\"Visualizing the number of drugs which comes under the manufacturer name and when the pregnant women and children can use the drug\")\n",
    "\n",
    "    df=final_drug[final_drug[\"brand_name\"].isin(['Mezereum','Ofloxacin','Sinus Severe','Naproxen'])]\n",
    "    df=final_drug[final_drug[\"manufacturer_name\"].isin(['Washington Homeopathic Products','A-S Medication Solutions','Walgreens'])]\n",
    "    fig = px.sunburst(\n",
    "        data_frame=df,\n",
    "        path=[\"brand_name\",\"pregnancy_or_breast_feeding\",\"manufacturer_name\",\"keep_out_of_reach_of_children\"], #root,banches,leaves\n",
    "        color=\"brand_name\",\n",
    "        color_discrete_sequence = px.colors.qualitative.Pastel,\n",
    "        maxdepth = -1,\n",
    "        title = \"Count and Name of the Drug Used\")\n",
    "    fig.show()\n",
    "else:\n",
    "    print('Data Not found!!!')"
   ]
  },
  {
   "cell_type": "markdown",
   "metadata": {},
   "source": [
    "### Scatter Plot for Drugs and recations combo"
   ]
  },
  {
   "cell_type": "code",
   "execution_count": 38,
   "metadata": {
    "ExecuteTime": {
     "end_time": "2021-04-28T20:45:29.082915Z",
     "start_time": "2021-04-28T20:45:27.591300Z"
    }
   },
   "outputs": [
    {
     "name": "stdout",
     "output_type": "stream",
     "text": [
      "\n",
      "* Flags all those combination of drug which have caused reactions in patients when consumed together,\n",
      "taking threshold as minimum of 30 cases reported with the same combinations.\n",
      "      drug1     drug2  usedtimes\n",
      "0   ADCIRCA  LETAIRIS        308\n",
      "1  LETAIRIS   ADCIRCA        308\n"
     ]
    },
    {
     "data": {
      "text/plain": [
       "176"
      ]
     },
     "execution_count": 38,
     "metadata": {},
     "output_type": "execute_result"
    }
   ],
   "source": [
    "i = postgres_conn.get_data(\"select b.brand_name as drug1, e.brand_name as drug2, count(*) as usedtimes from drugs_event_lists b, drugs_event_lists e where  b.brand_name <> e.brand_name and b.safety_report_id = e.safety_report_id group by (b.brand_name, e.brand_name) having count(*) > 30 order by count(*) desc\") \n",
    "print('''\n",
    "* Flags all those combination of drug which have caused reactions in patients when consumed together,\n",
    "taking threshold as minimum of 30 cases reported with the same combinations.''')\n",
    "print(i.head(2))\n",
    "len(i)"
   ]
  },
  {
   "cell_type": "code",
   "execution_count": 40,
   "metadata": {
    "ExecuteTime": {
     "end_time": "2021-04-28T20:46:09.796427Z",
     "start_time": "2021-04-28T20:46:09.605883Z"
    }
   },
   "outputs": [
    {
     "data": {
      "application/vnd.plotly.v1+json": {
       "config": {
        "plotlyServerURL": "https://plot.ly"
       },
       "data": [
        {
         "hovertemplate": "DRUG COMBINATION=%{y}<br>INDEX=%{marker.size}<extra></extra>",
         "legendgroup": "LISINOPRIL,METOPROLOL",
         "marker": {
          "color": "#636efa",
          "size": [
           143
          ],
          "sizemode": "area",
          "sizeref": 0.4275,
          "symbol": "circle"
         },
         "mode": "markers",
         "name": "LISINOPRIL,METOPROLOL",
         "orientation": "h",
         "showlegend": true,
         "type": "scatter",
         "x": [
          143
         ],
         "xaxis": "x",
         "y": [
          "LISINOPRIL,METOPROLOL"
         ],
         "yaxis": "y"
        },
        {
         "hovertemplate": "DRUG COMBINATION=%{y}<br>INDEX=%{marker.size}<extra></extra>",
         "legendgroup": "ASPIRIN,CRESTOR",
         "marker": {
          "color": "#EF553B",
          "size": [
           146
          ],
          "sizemode": "area",
          "sizeref": 0.4275,
          "symbol": "circle"
         },
         "mode": "markers",
         "name": "ASPIRIN,CRESTOR",
         "orientation": "h",
         "showlegend": true,
         "type": "scatter",
         "x": [
          146
         ],
         "xaxis": "x",
         "y": [
          "ASPIRIN,CRESTOR"
         ],
         "yaxis": "y"
        },
        {
         "hovertemplate": "DRUG COMBINATION=%{y}<br>INDEX=%{marker.size}<extra></extra>",
         "legendgroup": "SIMVASTATIN,METOPROLOL",
         "marker": {
          "color": "#00cc96",
          "size": [
           150
          ],
          "sizemode": "area",
          "sizeref": 0.4275,
          "symbol": "circle"
         },
         "mode": "markers",
         "name": "SIMVASTATIN,METOPROLOL",
         "orientation": "h",
         "showlegend": true,
         "type": "scatter",
         "x": [
          150
         ],
         "xaxis": "x",
         "y": [
          "SIMVASTATIN,METOPROLOL"
         ],
         "yaxis": "y"
        },
        {
         "hovertemplate": "DRUG COMBINATION=%{y}<br>INDEX=%{marker.size}<extra></extra>",
         "legendgroup": "OMNISCAN,GADOLINIUM (UNSPECIFIED)",
         "marker": {
          "color": "#ab63fa",
          "size": [
           151
          ],
          "sizemode": "area",
          "sizeref": 0.4275,
          "symbol": "circle"
         },
         "mode": "markers",
         "name": "OMNISCAN,GADOLINIUM (UNSPECIFIED)",
         "orientation": "h",
         "showlegend": true,
         "type": "scatter",
         "x": [
          151
         ],
         "xaxis": "x",
         "y": [
          "OMNISCAN,GADOLINIUM (UNSPECIFIED)"
         ],
         "yaxis": "y"
        },
        {
         "hovertemplate": "DRUG COMBINATION=%{y}<br>INDEX=%{marker.size}<extra></extra>",
         "legendgroup": "ATORVASTATIN,LIPITOR",
         "marker": {
          "color": "#FFA15A",
          "size": [
           154
          ],
          "sizemode": "area",
          "sizeref": 0.4275,
          "symbol": "circle"
         },
         "mode": "markers",
         "name": "ATORVASTATIN,LIPITOR",
         "orientation": "h",
         "showlegend": true,
         "type": "scatter",
         "x": [
          154
         ],
         "xaxis": "x",
         "y": [
          "ATORVASTATIN,LIPITOR"
         ],
         "yaxis": "y"
        },
        {
         "hovertemplate": "DRUG COMBINATION=%{y}<br>INDEX=%{marker.size}<extra></extra>",
         "legendgroup": "METHOTREXATE,PROGRAF",
         "marker": {
          "color": "#19d3f3",
          "size": [
           155
          ],
          "sizemode": "area",
          "sizeref": 0.4275,
          "symbol": "circle"
         },
         "mode": "markers",
         "name": "METHOTREXATE,PROGRAF",
         "orientation": "h",
         "showlegend": true,
         "type": "scatter",
         "x": [
          155
         ],
         "xaxis": "x",
         "y": [
          "METHOTREXATE,PROGRAF"
         ],
         "yaxis": "y"
        },
        {
         "hovertemplate": "DRUG COMBINATION=%{y}<br>INDEX=%{marker.size}<extra></extra>",
         "legendgroup": "METHOTREXATE,PREDNISONE",
         "marker": {
          "color": "#FF6692",
          "size": [
           156
          ],
          "sizemode": "area",
          "sizeref": 0.4275,
          "symbol": "circle"
         },
         "mode": "markers",
         "name": "METHOTREXATE,PREDNISONE",
         "orientation": "h",
         "showlegend": true,
         "type": "scatter",
         "x": [
          156
         ],
         "xaxis": "x",
         "y": [
          "METHOTREXATE,PREDNISONE"
         ],
         "yaxis": "y"
        },
        {
         "hovertemplate": "DRUG COMBINATION=%{y}<br>INDEX=%{marker.size}<extra></extra>",
         "legendgroup": "METFORMIN,SIMVASTATIN",
         "marker": {
          "color": "#B6E880",
          "size": [
           159
          ],
          "sizemode": "area",
          "sizeref": 0.4275,
          "symbol": "circle"
         },
         "mode": "markers",
         "name": "METFORMIN,SIMVASTATIN",
         "orientation": "h",
         "showlegend": true,
         "type": "scatter",
         "x": [
          159
         ],
         "xaxis": "x",
         "y": [
          "METFORMIN,SIMVASTATIN"
         ],
         "yaxis": "y"
        },
        {
         "hovertemplate": "DRUG COMBINATION=%{y}<br>INDEX=%{marker.size}<extra></extra>",
         "legendgroup": "LETAIRIS,WARFARIN",
         "marker": {
          "color": "#FF97FF",
          "size": [
           162
          ],
          "sizemode": "area",
          "sizeref": 0.4275,
          "symbol": "circle"
         },
         "mode": "markers",
         "name": "LETAIRIS,WARFARIN",
         "orientation": "h",
         "showlegend": true,
         "type": "scatter",
         "x": [
          162
         ],
         "xaxis": "x",
         "y": [
          "LETAIRIS,WARFARIN"
         ],
         "yaxis": "y"
        },
        {
         "hovertemplate": "DRUG COMBINATION=%{y}<br>INDEX=%{marker.size}<extra></extra>",
         "legendgroup": "AMLODIPINE,METOPROLOL",
         "marker": {
          "color": "#FECB52",
          "size": [
           164
          ],
          "sizemode": "area",
          "sizeref": 0.4275,
          "symbol": "circle"
         },
         "mode": "markers",
         "name": "AMLODIPINE,METOPROLOL",
         "orientation": "h",
         "showlegend": true,
         "type": "scatter",
         "x": [
          164
         ],
         "xaxis": "x",
         "y": [
          "AMLODIPINE,METOPROLOL"
         ],
         "yaxis": "y"
        },
        {
         "hovertemplate": "DRUG COMBINATION=%{y}<br>INDEX=%{marker.size}<extra></extra>",
         "legendgroup": "HUMIRA,FOLIC ACID",
         "marker": {
          "color": "#636efa",
          "size": [
           165
          ],
          "sizemode": "area",
          "sizeref": 0.4275,
          "symbol": "circle"
         },
         "mode": "markers",
         "name": "HUMIRA,FOLIC ACID",
         "orientation": "h",
         "showlegend": true,
         "type": "scatter",
         "x": [
          165
         ],
         "xaxis": "x",
         "y": [
          "HUMIRA,FOLIC ACID"
         ],
         "yaxis": "y"
        },
        {
         "hovertemplate": "DRUG COMBINATION=%{y}<br>INDEX=%{marker.size}<extra></extra>",
         "legendgroup": "YAZ,YASMIN",
         "marker": {
          "color": "#EF553B",
          "size": [
           167
          ],
          "sizemode": "area",
          "sizeref": 0.4275,
          "symbol": "circle"
         },
         "mode": "markers",
         "name": "YAZ,YASMIN",
         "orientation": "h",
         "showlegend": true,
         "type": "scatter",
         "x": [
          167
         ],
         "xaxis": "x",
         "y": [
          "YAZ,YASMIN"
         ],
         "yaxis": "y"
        },
        {
         "hovertemplate": "DRUG COMBINATION=%{y}<br>INDEX=%{marker.size}<extra></extra>",
         "legendgroup": "METHOTREXATE,CYCLOPHOSPHAMIDE",
         "marker": {
          "color": "#00cc96",
          "size": [
           169
          ],
          "sizemode": "area",
          "sizeref": 0.4275,
          "symbol": "circle"
         },
         "mode": "markers",
         "name": "METHOTREXATE,CYCLOPHOSPHAMIDE",
         "orientation": "h",
         "showlegend": true,
         "type": "scatter",
         "x": [
          169
         ],
         "xaxis": "x",
         "y": [
          "METHOTREXATE,CYCLOPHOSPHAMIDE"
         ],
         "yaxis": "y"
        },
        {
         "hovertemplate": "DRUG COMBINATION=%{y}<br>INDEX=%{marker.size}<extra></extra>",
         "legendgroup": "REMODULIN,ADCIRCA",
         "marker": {
          "color": "#ab63fa",
          "size": [
           170
          ],
          "sizemode": "area",
          "sizeref": 0.4275,
          "symbol": "circle"
         },
         "mode": "markers",
         "name": "REMODULIN,ADCIRCA",
         "orientation": "h",
         "showlegend": true,
         "type": "scatter",
         "x": [
          170
         ],
         "xaxis": "x",
         "y": [
          "REMODULIN,ADCIRCA"
         ],
         "yaxis": "y"
        },
        {
         "hovertemplate": "DRUG COMBINATION=%{y}<br>INDEX=%{marker.size}<extra></extra>",
         "legendgroup": "ASPIRIN,SYNTHROID",
         "marker": {
          "color": "#FFA15A",
          "size": [
           171
          ],
          "sizemode": "area",
          "sizeref": 0.4275,
          "symbol": "circle"
         },
         "mode": "markers",
         "name": "ASPIRIN,SYNTHROID",
         "orientation": "h",
         "showlegend": true,
         "type": "scatter",
         "x": [
          171
         ],
         "xaxis": "x",
         "y": [
          "ASPIRIN,SYNTHROID"
         ],
         "yaxis": "y"
        }
       ],
       "layout": {
        "legend": {
         "itemsizing": "constant",
         "title": {
          "text": "DRUG COMBINATION"
         },
         "tracegroupgap": 0
        },
        "template": {
         "data": {
          "bar": [
           {
            "error_x": {
             "color": "#2a3f5f"
            },
            "error_y": {
             "color": "#2a3f5f"
            },
            "marker": {
             "line": {
              "color": "#E5ECF6",
              "width": 0.5
             }
            },
            "type": "bar"
           }
          ],
          "barpolar": [
           {
            "marker": {
             "line": {
              "color": "#E5ECF6",
              "width": 0.5
             }
            },
            "type": "barpolar"
           }
          ],
          "carpet": [
           {
            "aaxis": {
             "endlinecolor": "#2a3f5f",
             "gridcolor": "white",
             "linecolor": "white",
             "minorgridcolor": "white",
             "startlinecolor": "#2a3f5f"
            },
            "baxis": {
             "endlinecolor": "#2a3f5f",
             "gridcolor": "white",
             "linecolor": "white",
             "minorgridcolor": "white",
             "startlinecolor": "#2a3f5f"
            },
            "type": "carpet"
           }
          ],
          "choropleth": [
           {
            "colorbar": {
             "outlinewidth": 0,
             "ticks": ""
            },
            "type": "choropleth"
           }
          ],
          "contour": [
           {
            "colorbar": {
             "outlinewidth": 0,
             "ticks": ""
            },
            "colorscale": [
             [
              0,
              "#0d0887"
             ],
             [
              0.1111111111111111,
              "#46039f"
             ],
             [
              0.2222222222222222,
              "#7201a8"
             ],
             [
              0.3333333333333333,
              "#9c179e"
             ],
             [
              0.4444444444444444,
              "#bd3786"
             ],
             [
              0.5555555555555556,
              "#d8576b"
             ],
             [
              0.6666666666666666,
              "#ed7953"
             ],
             [
              0.7777777777777778,
              "#fb9f3a"
             ],
             [
              0.8888888888888888,
              "#fdca26"
             ],
             [
              1,
              "#f0f921"
             ]
            ],
            "type": "contour"
           }
          ],
          "contourcarpet": [
           {
            "colorbar": {
             "outlinewidth": 0,
             "ticks": ""
            },
            "type": "contourcarpet"
           }
          ],
          "heatmap": [
           {
            "colorbar": {
             "outlinewidth": 0,
             "ticks": ""
            },
            "colorscale": [
             [
              0,
              "#0d0887"
             ],
             [
              0.1111111111111111,
              "#46039f"
             ],
             [
              0.2222222222222222,
              "#7201a8"
             ],
             [
              0.3333333333333333,
              "#9c179e"
             ],
             [
              0.4444444444444444,
              "#bd3786"
             ],
             [
              0.5555555555555556,
              "#d8576b"
             ],
             [
              0.6666666666666666,
              "#ed7953"
             ],
             [
              0.7777777777777778,
              "#fb9f3a"
             ],
             [
              0.8888888888888888,
              "#fdca26"
             ],
             [
              1,
              "#f0f921"
             ]
            ],
            "type": "heatmap"
           }
          ],
          "heatmapgl": [
           {
            "colorbar": {
             "outlinewidth": 0,
             "ticks": ""
            },
            "colorscale": [
             [
              0,
              "#0d0887"
             ],
             [
              0.1111111111111111,
              "#46039f"
             ],
             [
              0.2222222222222222,
              "#7201a8"
             ],
             [
              0.3333333333333333,
              "#9c179e"
             ],
             [
              0.4444444444444444,
              "#bd3786"
             ],
             [
              0.5555555555555556,
              "#d8576b"
             ],
             [
              0.6666666666666666,
              "#ed7953"
             ],
             [
              0.7777777777777778,
              "#fb9f3a"
             ],
             [
              0.8888888888888888,
              "#fdca26"
             ],
             [
              1,
              "#f0f921"
             ]
            ],
            "type": "heatmapgl"
           }
          ],
          "histogram": [
           {
            "marker": {
             "colorbar": {
              "outlinewidth": 0,
              "ticks": ""
             }
            },
            "type": "histogram"
           }
          ],
          "histogram2d": [
           {
            "colorbar": {
             "outlinewidth": 0,
             "ticks": ""
            },
            "colorscale": [
             [
              0,
              "#0d0887"
             ],
             [
              0.1111111111111111,
              "#46039f"
             ],
             [
              0.2222222222222222,
              "#7201a8"
             ],
             [
              0.3333333333333333,
              "#9c179e"
             ],
             [
              0.4444444444444444,
              "#bd3786"
             ],
             [
              0.5555555555555556,
              "#d8576b"
             ],
             [
              0.6666666666666666,
              "#ed7953"
             ],
             [
              0.7777777777777778,
              "#fb9f3a"
             ],
             [
              0.8888888888888888,
              "#fdca26"
             ],
             [
              1,
              "#f0f921"
             ]
            ],
            "type": "histogram2d"
           }
          ],
          "histogram2dcontour": [
           {
            "colorbar": {
             "outlinewidth": 0,
             "ticks": ""
            },
            "colorscale": [
             [
              0,
              "#0d0887"
             ],
             [
              0.1111111111111111,
              "#46039f"
             ],
             [
              0.2222222222222222,
              "#7201a8"
             ],
             [
              0.3333333333333333,
              "#9c179e"
             ],
             [
              0.4444444444444444,
              "#bd3786"
             ],
             [
              0.5555555555555556,
              "#d8576b"
             ],
             [
              0.6666666666666666,
              "#ed7953"
             ],
             [
              0.7777777777777778,
              "#fb9f3a"
             ],
             [
              0.8888888888888888,
              "#fdca26"
             ],
             [
              1,
              "#f0f921"
             ]
            ],
            "type": "histogram2dcontour"
           }
          ],
          "mesh3d": [
           {
            "colorbar": {
             "outlinewidth": 0,
             "ticks": ""
            },
            "type": "mesh3d"
           }
          ],
          "parcoords": [
           {
            "line": {
             "colorbar": {
              "outlinewidth": 0,
              "ticks": ""
             }
            },
            "type": "parcoords"
           }
          ],
          "pie": [
           {
            "automargin": true,
            "type": "pie"
           }
          ],
          "scatter": [
           {
            "marker": {
             "colorbar": {
              "outlinewidth": 0,
              "ticks": ""
             }
            },
            "type": "scatter"
           }
          ],
          "scatter3d": [
           {
            "line": {
             "colorbar": {
              "outlinewidth": 0,
              "ticks": ""
             }
            },
            "marker": {
             "colorbar": {
              "outlinewidth": 0,
              "ticks": ""
             }
            },
            "type": "scatter3d"
           }
          ],
          "scattercarpet": [
           {
            "marker": {
             "colorbar": {
              "outlinewidth": 0,
              "ticks": ""
             }
            },
            "type": "scattercarpet"
           }
          ],
          "scattergeo": [
           {
            "marker": {
             "colorbar": {
              "outlinewidth": 0,
              "ticks": ""
             }
            },
            "type": "scattergeo"
           }
          ],
          "scattergl": [
           {
            "marker": {
             "colorbar": {
              "outlinewidth": 0,
              "ticks": ""
             }
            },
            "type": "scattergl"
           }
          ],
          "scattermapbox": [
           {
            "marker": {
             "colorbar": {
              "outlinewidth": 0,
              "ticks": ""
             }
            },
            "type": "scattermapbox"
           }
          ],
          "scatterpolar": [
           {
            "marker": {
             "colorbar": {
              "outlinewidth": 0,
              "ticks": ""
             }
            },
            "type": "scatterpolar"
           }
          ],
          "scatterpolargl": [
           {
            "marker": {
             "colorbar": {
              "outlinewidth": 0,
              "ticks": ""
             }
            },
            "type": "scatterpolargl"
           }
          ],
          "scatterternary": [
           {
            "marker": {
             "colorbar": {
              "outlinewidth": 0,
              "ticks": ""
             }
            },
            "type": "scatterternary"
           }
          ],
          "surface": [
           {
            "colorbar": {
             "outlinewidth": 0,
             "ticks": ""
            },
            "colorscale": [
             [
              0,
              "#0d0887"
             ],
             [
              0.1111111111111111,
              "#46039f"
             ],
             [
              0.2222222222222222,
              "#7201a8"
             ],
             [
              0.3333333333333333,
              "#9c179e"
             ],
             [
              0.4444444444444444,
              "#bd3786"
             ],
             [
              0.5555555555555556,
              "#d8576b"
             ],
             [
              0.6666666666666666,
              "#ed7953"
             ],
             [
              0.7777777777777778,
              "#fb9f3a"
             ],
             [
              0.8888888888888888,
              "#fdca26"
             ],
             [
              1,
              "#f0f921"
             ]
            ],
            "type": "surface"
           }
          ],
          "table": [
           {
            "cells": {
             "fill": {
              "color": "#EBF0F8"
             },
             "line": {
              "color": "white"
             }
            },
            "header": {
             "fill": {
              "color": "#C8D4E3"
             },
             "line": {
              "color": "white"
             }
            },
            "type": "table"
           }
          ]
         },
         "layout": {
          "annotationdefaults": {
           "arrowcolor": "#2a3f5f",
           "arrowhead": 0,
           "arrowwidth": 1
          },
          "autotypenumbers": "strict",
          "coloraxis": {
           "colorbar": {
            "outlinewidth": 0,
            "ticks": ""
           }
          },
          "colorscale": {
           "diverging": [
            [
             0,
             "#8e0152"
            ],
            [
             0.1,
             "#c51b7d"
            ],
            [
             0.2,
             "#de77ae"
            ],
            [
             0.3,
             "#f1b6da"
            ],
            [
             0.4,
             "#fde0ef"
            ],
            [
             0.5,
             "#f7f7f7"
            ],
            [
             0.6,
             "#e6f5d0"
            ],
            [
             0.7,
             "#b8e186"
            ],
            [
             0.8,
             "#7fbc41"
            ],
            [
             0.9,
             "#4d9221"
            ],
            [
             1,
             "#276419"
            ]
           ],
           "sequential": [
            [
             0,
             "#0d0887"
            ],
            [
             0.1111111111111111,
             "#46039f"
            ],
            [
             0.2222222222222222,
             "#7201a8"
            ],
            [
             0.3333333333333333,
             "#9c179e"
            ],
            [
             0.4444444444444444,
             "#bd3786"
            ],
            [
             0.5555555555555556,
             "#d8576b"
            ],
            [
             0.6666666666666666,
             "#ed7953"
            ],
            [
             0.7777777777777778,
             "#fb9f3a"
            ],
            [
             0.8888888888888888,
             "#fdca26"
            ],
            [
             1,
             "#f0f921"
            ]
           ],
           "sequentialminus": [
            [
             0,
             "#0d0887"
            ],
            [
             0.1111111111111111,
             "#46039f"
            ],
            [
             0.2222222222222222,
             "#7201a8"
            ],
            [
             0.3333333333333333,
             "#9c179e"
            ],
            [
             0.4444444444444444,
             "#bd3786"
            ],
            [
             0.5555555555555556,
             "#d8576b"
            ],
            [
             0.6666666666666666,
             "#ed7953"
            ],
            [
             0.7777777777777778,
             "#fb9f3a"
            ],
            [
             0.8888888888888888,
             "#fdca26"
            ],
            [
             1,
             "#f0f921"
            ]
           ]
          },
          "colorway": [
           "#636efa",
           "#EF553B",
           "#00cc96",
           "#ab63fa",
           "#FFA15A",
           "#19d3f3",
           "#FF6692",
           "#B6E880",
           "#FF97FF",
           "#FECB52"
          ],
          "font": {
           "color": "#2a3f5f"
          },
          "geo": {
           "bgcolor": "white",
           "lakecolor": "white",
           "landcolor": "#E5ECF6",
           "showlakes": true,
           "showland": true,
           "subunitcolor": "white"
          },
          "hoverlabel": {
           "align": "left"
          },
          "hovermode": "closest",
          "mapbox": {
           "style": "light"
          },
          "paper_bgcolor": "white",
          "plot_bgcolor": "#E5ECF6",
          "polar": {
           "angularaxis": {
            "gridcolor": "white",
            "linecolor": "white",
            "ticks": ""
           },
           "bgcolor": "#E5ECF6",
           "radialaxis": {
            "gridcolor": "white",
            "linecolor": "white",
            "ticks": ""
           }
          },
          "scene": {
           "xaxis": {
            "backgroundcolor": "#E5ECF6",
            "gridcolor": "white",
            "gridwidth": 2,
            "linecolor": "white",
            "showbackground": true,
            "ticks": "",
            "zerolinecolor": "white"
           },
           "yaxis": {
            "backgroundcolor": "#E5ECF6",
            "gridcolor": "white",
            "gridwidth": 2,
            "linecolor": "white",
            "showbackground": true,
            "ticks": "",
            "zerolinecolor": "white"
           },
           "zaxis": {
            "backgroundcolor": "#E5ECF6",
            "gridcolor": "white",
            "gridwidth": 2,
            "linecolor": "white",
            "showbackground": true,
            "ticks": "",
            "zerolinecolor": "white"
           }
          },
          "shapedefaults": {
           "line": {
            "color": "#2a3f5f"
           }
          },
          "ternary": {
           "aaxis": {
            "gridcolor": "white",
            "linecolor": "white",
            "ticks": ""
           },
           "baxis": {
            "gridcolor": "white",
            "linecolor": "white",
            "ticks": ""
           },
           "bgcolor": "#E5ECF6",
           "caxis": {
            "gridcolor": "white",
            "linecolor": "white",
            "ticks": ""
           }
          },
          "title": {
           "x": 0.05
          },
          "xaxis": {
           "automargin": true,
           "gridcolor": "white",
           "linecolor": "white",
           "ticks": "",
           "title": {
            "standoff": 15
           },
           "zerolinecolor": "white",
           "zerolinewidth": 2
          },
          "yaxis": {
           "automargin": true,
           "gridcolor": "white",
           "linecolor": "white",
           "ticks": "",
           "title": {
            "standoff": 15
           },
           "zerolinecolor": "white",
           "zerolinewidth": 2
          }
         }
        },
        "title": {
         "text": "Drugs Combination causing reactions in patients when consumed together"
        },
        "xaxis": {
         "anchor": "y",
         "domain": [
          0,
          1
         ],
         "title": {
          "text": "INDEX"
         }
        },
        "yaxis": {
         "anchor": "x",
         "categoryarray": [
          "ASPIRIN,SYNTHROID",
          "REMODULIN,ADCIRCA",
          "METHOTREXATE,CYCLOPHOSPHAMIDE",
          "YAZ,YASMIN",
          "HUMIRA,FOLIC ACID",
          "AMLODIPINE,METOPROLOL",
          "LETAIRIS,WARFARIN",
          "METFORMIN,SIMVASTATIN",
          "METHOTREXATE,PREDNISONE",
          "METHOTREXATE,PROGRAF",
          "ATORVASTATIN,LIPITOR",
          "OMNISCAN,GADOLINIUM (UNSPECIFIED)",
          "SIMVASTATIN,METOPROLOL",
          "ASPIRIN,CRESTOR",
          "LISINOPRIL,METOPROLOL"
         ],
         "categoryorder": "array",
         "domain": [
          0,
          1
         ],
         "title": {
          "text": "DRUG COMBINATION"
         }
        }
       }
      },
      "text/html": [
       "<div>                            <div id=\"9ca1e0d7-8a9a-467c-abea-601d7c72ed8b\" class=\"plotly-graph-div\" style=\"height:525px; width:100%;\"></div>            <script type=\"text/javascript\">                require([\"plotly\"], function(Plotly) {                    window.PLOTLYENV=window.PLOTLYENV || {};                                    if (document.getElementById(\"9ca1e0d7-8a9a-467c-abea-601d7c72ed8b\")) {                    Plotly.newPlot(                        \"9ca1e0d7-8a9a-467c-abea-601d7c72ed8b\",                        [{\"hovertemplate\": \"DRUG COMBINATION=%{y}<br>INDEX=%{marker.size}<extra></extra>\", \"legendgroup\": \"LISINOPRIL,METOPROLOL\", \"marker\": {\"color\": \"#636efa\", \"size\": [143], \"sizemode\": \"area\", \"sizeref\": 0.4275, \"symbol\": \"circle\"}, \"mode\": \"markers\", \"name\": \"LISINOPRIL,METOPROLOL\", \"orientation\": \"h\", \"showlegend\": true, \"type\": \"scatter\", \"x\": [143], \"xaxis\": \"x\", \"y\": [\"LISINOPRIL,METOPROLOL\"], \"yaxis\": \"y\"}, {\"hovertemplate\": \"DRUG COMBINATION=%{y}<br>INDEX=%{marker.size}<extra></extra>\", \"legendgroup\": \"ASPIRIN,CRESTOR\", \"marker\": {\"color\": \"#EF553B\", \"size\": [146], \"sizemode\": \"area\", \"sizeref\": 0.4275, \"symbol\": \"circle\"}, \"mode\": \"markers\", \"name\": \"ASPIRIN,CRESTOR\", \"orientation\": \"h\", \"showlegend\": true, \"type\": \"scatter\", \"x\": [146], \"xaxis\": \"x\", \"y\": [\"ASPIRIN,CRESTOR\"], \"yaxis\": \"y\"}, {\"hovertemplate\": \"DRUG COMBINATION=%{y}<br>INDEX=%{marker.size}<extra></extra>\", \"legendgroup\": \"SIMVASTATIN,METOPROLOL\", \"marker\": {\"color\": \"#00cc96\", \"size\": [150], \"sizemode\": \"area\", \"sizeref\": 0.4275, \"symbol\": \"circle\"}, \"mode\": \"markers\", \"name\": \"SIMVASTATIN,METOPROLOL\", \"orientation\": \"h\", \"showlegend\": true, \"type\": \"scatter\", \"x\": [150], \"xaxis\": \"x\", \"y\": [\"SIMVASTATIN,METOPROLOL\"], \"yaxis\": \"y\"}, {\"hovertemplate\": \"DRUG COMBINATION=%{y}<br>INDEX=%{marker.size}<extra></extra>\", \"legendgroup\": \"OMNISCAN,GADOLINIUM (UNSPECIFIED)\", \"marker\": {\"color\": \"#ab63fa\", \"size\": [151], \"sizemode\": \"area\", \"sizeref\": 0.4275, \"symbol\": \"circle\"}, \"mode\": \"markers\", \"name\": \"OMNISCAN,GADOLINIUM (UNSPECIFIED)\", \"orientation\": \"h\", \"showlegend\": true, \"type\": \"scatter\", \"x\": [151], \"xaxis\": \"x\", \"y\": [\"OMNISCAN,GADOLINIUM (UNSPECIFIED)\"], \"yaxis\": \"y\"}, {\"hovertemplate\": \"DRUG COMBINATION=%{y}<br>INDEX=%{marker.size}<extra></extra>\", \"legendgroup\": \"ATORVASTATIN,LIPITOR\", \"marker\": {\"color\": \"#FFA15A\", \"size\": [154], \"sizemode\": \"area\", \"sizeref\": 0.4275, \"symbol\": \"circle\"}, \"mode\": \"markers\", \"name\": \"ATORVASTATIN,LIPITOR\", \"orientation\": \"h\", \"showlegend\": true, \"type\": \"scatter\", \"x\": [154], \"xaxis\": \"x\", \"y\": [\"ATORVASTATIN,LIPITOR\"], \"yaxis\": \"y\"}, {\"hovertemplate\": \"DRUG COMBINATION=%{y}<br>INDEX=%{marker.size}<extra></extra>\", \"legendgroup\": \"METHOTREXATE,PROGRAF\", \"marker\": {\"color\": \"#19d3f3\", \"size\": [155], \"sizemode\": \"area\", \"sizeref\": 0.4275, \"symbol\": \"circle\"}, \"mode\": \"markers\", \"name\": \"METHOTREXATE,PROGRAF\", \"orientation\": \"h\", \"showlegend\": true, \"type\": \"scatter\", \"x\": [155], \"xaxis\": \"x\", \"y\": [\"METHOTREXATE,PROGRAF\"], \"yaxis\": \"y\"}, {\"hovertemplate\": \"DRUG COMBINATION=%{y}<br>INDEX=%{marker.size}<extra></extra>\", \"legendgroup\": \"METHOTREXATE,PREDNISONE\", \"marker\": {\"color\": \"#FF6692\", \"size\": [156], \"sizemode\": \"area\", \"sizeref\": 0.4275, \"symbol\": \"circle\"}, \"mode\": \"markers\", \"name\": \"METHOTREXATE,PREDNISONE\", \"orientation\": \"h\", \"showlegend\": true, \"type\": \"scatter\", \"x\": [156], \"xaxis\": \"x\", \"y\": [\"METHOTREXATE,PREDNISONE\"], \"yaxis\": \"y\"}, {\"hovertemplate\": \"DRUG COMBINATION=%{y}<br>INDEX=%{marker.size}<extra></extra>\", \"legendgroup\": \"METFORMIN,SIMVASTATIN\", \"marker\": {\"color\": \"#B6E880\", \"size\": [159], \"sizemode\": \"area\", \"sizeref\": 0.4275, \"symbol\": \"circle\"}, \"mode\": \"markers\", \"name\": \"METFORMIN,SIMVASTATIN\", \"orientation\": \"h\", \"showlegend\": true, \"type\": \"scatter\", \"x\": [159], \"xaxis\": \"x\", \"y\": [\"METFORMIN,SIMVASTATIN\"], \"yaxis\": \"y\"}, {\"hovertemplate\": \"DRUG COMBINATION=%{y}<br>INDEX=%{marker.size}<extra></extra>\", \"legendgroup\": \"LETAIRIS,WARFARIN\", \"marker\": {\"color\": \"#FF97FF\", \"size\": [162], \"sizemode\": \"area\", \"sizeref\": 0.4275, \"symbol\": \"circle\"}, \"mode\": \"markers\", \"name\": \"LETAIRIS,WARFARIN\", \"orientation\": \"h\", \"showlegend\": true, \"type\": \"scatter\", \"x\": [162], \"xaxis\": \"x\", \"y\": [\"LETAIRIS,WARFARIN\"], \"yaxis\": \"y\"}, {\"hovertemplate\": \"DRUG COMBINATION=%{y}<br>INDEX=%{marker.size}<extra></extra>\", \"legendgroup\": \"AMLODIPINE,METOPROLOL\", \"marker\": {\"color\": \"#FECB52\", \"size\": [164], \"sizemode\": \"area\", \"sizeref\": 0.4275, \"symbol\": \"circle\"}, \"mode\": \"markers\", \"name\": \"AMLODIPINE,METOPROLOL\", \"orientation\": \"h\", \"showlegend\": true, \"type\": \"scatter\", \"x\": [164], \"xaxis\": \"x\", \"y\": [\"AMLODIPINE,METOPROLOL\"], \"yaxis\": \"y\"}, {\"hovertemplate\": \"DRUG COMBINATION=%{y}<br>INDEX=%{marker.size}<extra></extra>\", \"legendgroup\": \"HUMIRA,FOLIC ACID\", \"marker\": {\"color\": \"#636efa\", \"size\": [165], \"sizemode\": \"area\", \"sizeref\": 0.4275, \"symbol\": \"circle\"}, \"mode\": \"markers\", \"name\": \"HUMIRA,FOLIC ACID\", \"orientation\": \"h\", \"showlegend\": true, \"type\": \"scatter\", \"x\": [165], \"xaxis\": \"x\", \"y\": [\"HUMIRA,FOLIC ACID\"], \"yaxis\": \"y\"}, {\"hovertemplate\": \"DRUG COMBINATION=%{y}<br>INDEX=%{marker.size}<extra></extra>\", \"legendgroup\": \"YAZ,YASMIN\", \"marker\": {\"color\": \"#EF553B\", \"size\": [167], \"sizemode\": \"area\", \"sizeref\": 0.4275, \"symbol\": \"circle\"}, \"mode\": \"markers\", \"name\": \"YAZ,YASMIN\", \"orientation\": \"h\", \"showlegend\": true, \"type\": \"scatter\", \"x\": [167], \"xaxis\": \"x\", \"y\": [\"YAZ,YASMIN\"], \"yaxis\": \"y\"}, {\"hovertemplate\": \"DRUG COMBINATION=%{y}<br>INDEX=%{marker.size}<extra></extra>\", \"legendgroup\": \"METHOTREXATE,CYCLOPHOSPHAMIDE\", \"marker\": {\"color\": \"#00cc96\", \"size\": [169], \"sizemode\": \"area\", \"sizeref\": 0.4275, \"symbol\": \"circle\"}, \"mode\": \"markers\", \"name\": \"METHOTREXATE,CYCLOPHOSPHAMIDE\", \"orientation\": \"h\", \"showlegend\": true, \"type\": \"scatter\", \"x\": [169], \"xaxis\": \"x\", \"y\": [\"METHOTREXATE,CYCLOPHOSPHAMIDE\"], \"yaxis\": \"y\"}, {\"hovertemplate\": \"DRUG COMBINATION=%{y}<br>INDEX=%{marker.size}<extra></extra>\", \"legendgroup\": \"REMODULIN,ADCIRCA\", \"marker\": {\"color\": \"#ab63fa\", \"size\": [170], \"sizemode\": \"area\", \"sizeref\": 0.4275, \"symbol\": \"circle\"}, \"mode\": \"markers\", \"name\": \"REMODULIN,ADCIRCA\", \"orientation\": \"h\", \"showlegend\": true, \"type\": \"scatter\", \"x\": [170], \"xaxis\": \"x\", \"y\": [\"REMODULIN,ADCIRCA\"], \"yaxis\": \"y\"}, {\"hovertemplate\": \"DRUG COMBINATION=%{y}<br>INDEX=%{marker.size}<extra></extra>\", \"legendgroup\": \"ASPIRIN,SYNTHROID\", \"marker\": {\"color\": \"#FFA15A\", \"size\": [171], \"sizemode\": \"area\", \"sizeref\": 0.4275, \"symbol\": \"circle\"}, \"mode\": \"markers\", \"name\": \"ASPIRIN,SYNTHROID\", \"orientation\": \"h\", \"showlegend\": true, \"type\": \"scatter\", \"x\": [171], \"xaxis\": \"x\", \"y\": [\"ASPIRIN,SYNTHROID\"], \"yaxis\": \"y\"}],                        {\"legend\": {\"itemsizing\": \"constant\", \"title\": {\"text\": \"DRUG COMBINATION\"}, \"tracegroupgap\": 0}, \"template\": {\"data\": {\"bar\": [{\"error_x\": {\"color\": \"#2a3f5f\"}, \"error_y\": {\"color\": \"#2a3f5f\"}, \"marker\": {\"line\": {\"color\": \"#E5ECF6\", \"width\": 0.5}}, \"type\": \"bar\"}], \"barpolar\": [{\"marker\": {\"line\": {\"color\": \"#E5ECF6\", \"width\": 0.5}}, \"type\": \"barpolar\"}], \"carpet\": [{\"aaxis\": {\"endlinecolor\": \"#2a3f5f\", \"gridcolor\": \"white\", \"linecolor\": \"white\", \"minorgridcolor\": \"white\", \"startlinecolor\": \"#2a3f5f\"}, \"baxis\": {\"endlinecolor\": \"#2a3f5f\", \"gridcolor\": \"white\", \"linecolor\": \"white\", \"minorgridcolor\": \"white\", \"startlinecolor\": \"#2a3f5f\"}, \"type\": \"carpet\"}], \"choropleth\": [{\"colorbar\": {\"outlinewidth\": 0, \"ticks\": \"\"}, \"type\": \"choropleth\"}], \"contour\": [{\"colorbar\": {\"outlinewidth\": 0, \"ticks\": \"\"}, \"colorscale\": [[0.0, \"#0d0887\"], [0.1111111111111111, \"#46039f\"], [0.2222222222222222, \"#7201a8\"], [0.3333333333333333, \"#9c179e\"], [0.4444444444444444, \"#bd3786\"], [0.5555555555555556, \"#d8576b\"], [0.6666666666666666, \"#ed7953\"], [0.7777777777777778, \"#fb9f3a\"], [0.8888888888888888, \"#fdca26\"], [1.0, \"#f0f921\"]], \"type\": \"contour\"}], \"contourcarpet\": [{\"colorbar\": {\"outlinewidth\": 0, \"ticks\": \"\"}, \"type\": \"contourcarpet\"}], \"heatmap\": [{\"colorbar\": {\"outlinewidth\": 0, \"ticks\": \"\"}, \"colorscale\": [[0.0, \"#0d0887\"], [0.1111111111111111, \"#46039f\"], [0.2222222222222222, \"#7201a8\"], [0.3333333333333333, \"#9c179e\"], [0.4444444444444444, \"#bd3786\"], [0.5555555555555556, \"#d8576b\"], [0.6666666666666666, \"#ed7953\"], [0.7777777777777778, \"#fb9f3a\"], [0.8888888888888888, \"#fdca26\"], [1.0, \"#f0f921\"]], \"type\": \"heatmap\"}], \"heatmapgl\": [{\"colorbar\": {\"outlinewidth\": 0, \"ticks\": \"\"}, \"colorscale\": [[0.0, \"#0d0887\"], [0.1111111111111111, \"#46039f\"], [0.2222222222222222, \"#7201a8\"], [0.3333333333333333, \"#9c179e\"], [0.4444444444444444, \"#bd3786\"], [0.5555555555555556, \"#d8576b\"], [0.6666666666666666, \"#ed7953\"], [0.7777777777777778, \"#fb9f3a\"], [0.8888888888888888, \"#fdca26\"], [1.0, \"#f0f921\"]], \"type\": \"heatmapgl\"}], \"histogram\": [{\"marker\": {\"colorbar\": {\"outlinewidth\": 0, \"ticks\": \"\"}}, \"type\": \"histogram\"}], \"histogram2d\": [{\"colorbar\": {\"outlinewidth\": 0, \"ticks\": \"\"}, \"colorscale\": [[0.0, \"#0d0887\"], [0.1111111111111111, \"#46039f\"], [0.2222222222222222, \"#7201a8\"], [0.3333333333333333, \"#9c179e\"], [0.4444444444444444, \"#bd3786\"], [0.5555555555555556, \"#d8576b\"], [0.6666666666666666, \"#ed7953\"], [0.7777777777777778, \"#fb9f3a\"], [0.8888888888888888, \"#fdca26\"], [1.0, \"#f0f921\"]], \"type\": \"histogram2d\"}], \"histogram2dcontour\": [{\"colorbar\": {\"outlinewidth\": 0, \"ticks\": \"\"}, \"colorscale\": [[0.0, \"#0d0887\"], [0.1111111111111111, \"#46039f\"], [0.2222222222222222, \"#7201a8\"], [0.3333333333333333, \"#9c179e\"], [0.4444444444444444, \"#bd3786\"], [0.5555555555555556, \"#d8576b\"], [0.6666666666666666, \"#ed7953\"], [0.7777777777777778, \"#fb9f3a\"], [0.8888888888888888, \"#fdca26\"], [1.0, \"#f0f921\"]], \"type\": \"histogram2dcontour\"}], \"mesh3d\": [{\"colorbar\": {\"outlinewidth\": 0, \"ticks\": \"\"}, \"type\": \"mesh3d\"}], \"parcoords\": [{\"line\": {\"colorbar\": {\"outlinewidth\": 0, \"ticks\": \"\"}}, \"type\": \"parcoords\"}], \"pie\": [{\"automargin\": true, \"type\": \"pie\"}], \"scatter\": [{\"marker\": {\"colorbar\": {\"outlinewidth\": 0, \"ticks\": \"\"}}, \"type\": \"scatter\"}], \"scatter3d\": [{\"line\": {\"colorbar\": {\"outlinewidth\": 0, \"ticks\": \"\"}}, \"marker\": {\"colorbar\": {\"outlinewidth\": 0, \"ticks\": \"\"}}, \"type\": \"scatter3d\"}], \"scattercarpet\": [{\"marker\": {\"colorbar\": {\"outlinewidth\": 0, \"ticks\": \"\"}}, \"type\": \"scattercarpet\"}], \"scattergeo\": [{\"marker\": {\"colorbar\": {\"outlinewidth\": 0, \"ticks\": \"\"}}, \"type\": \"scattergeo\"}], \"scattergl\": [{\"marker\": {\"colorbar\": {\"outlinewidth\": 0, \"ticks\": \"\"}}, \"type\": \"scattergl\"}], \"scattermapbox\": [{\"marker\": {\"colorbar\": {\"outlinewidth\": 0, \"ticks\": \"\"}}, \"type\": \"scattermapbox\"}], \"scatterpolar\": [{\"marker\": {\"colorbar\": {\"outlinewidth\": 0, \"ticks\": \"\"}}, \"type\": \"scatterpolar\"}], \"scatterpolargl\": [{\"marker\": {\"colorbar\": {\"outlinewidth\": 0, \"ticks\": \"\"}}, \"type\": \"scatterpolargl\"}], \"scatterternary\": [{\"marker\": {\"colorbar\": {\"outlinewidth\": 0, \"ticks\": \"\"}}, \"type\": \"scatterternary\"}], \"surface\": [{\"colorbar\": {\"outlinewidth\": 0, \"ticks\": \"\"}, \"colorscale\": [[0.0, \"#0d0887\"], [0.1111111111111111, \"#46039f\"], [0.2222222222222222, \"#7201a8\"], [0.3333333333333333, \"#9c179e\"], [0.4444444444444444, \"#bd3786\"], [0.5555555555555556, \"#d8576b\"], [0.6666666666666666, \"#ed7953\"], [0.7777777777777778, \"#fb9f3a\"], [0.8888888888888888, \"#fdca26\"], [1.0, \"#f0f921\"]], \"type\": \"surface\"}], \"table\": [{\"cells\": {\"fill\": {\"color\": \"#EBF0F8\"}, \"line\": {\"color\": \"white\"}}, \"header\": {\"fill\": {\"color\": \"#C8D4E3\"}, \"line\": {\"color\": \"white\"}}, \"type\": \"table\"}]}, \"layout\": {\"annotationdefaults\": {\"arrowcolor\": \"#2a3f5f\", \"arrowhead\": 0, \"arrowwidth\": 1}, \"autotypenumbers\": \"strict\", \"coloraxis\": {\"colorbar\": {\"outlinewidth\": 0, \"ticks\": \"\"}}, \"colorscale\": {\"diverging\": [[0, \"#8e0152\"], [0.1, \"#c51b7d\"], [0.2, \"#de77ae\"], [0.3, \"#f1b6da\"], [0.4, \"#fde0ef\"], [0.5, \"#f7f7f7\"], [0.6, \"#e6f5d0\"], [0.7, \"#b8e186\"], [0.8, \"#7fbc41\"], [0.9, \"#4d9221\"], [1, \"#276419\"]], \"sequential\": [[0.0, \"#0d0887\"], [0.1111111111111111, \"#46039f\"], [0.2222222222222222, \"#7201a8\"], [0.3333333333333333, \"#9c179e\"], [0.4444444444444444, \"#bd3786\"], [0.5555555555555556, \"#d8576b\"], [0.6666666666666666, \"#ed7953\"], [0.7777777777777778, \"#fb9f3a\"], [0.8888888888888888, \"#fdca26\"], [1.0, \"#f0f921\"]], \"sequentialminus\": [[0.0, \"#0d0887\"], [0.1111111111111111, \"#46039f\"], [0.2222222222222222, \"#7201a8\"], [0.3333333333333333, \"#9c179e\"], [0.4444444444444444, \"#bd3786\"], [0.5555555555555556, \"#d8576b\"], [0.6666666666666666, \"#ed7953\"], [0.7777777777777778, \"#fb9f3a\"], [0.8888888888888888, \"#fdca26\"], [1.0, \"#f0f921\"]]}, \"colorway\": [\"#636efa\", \"#EF553B\", \"#00cc96\", \"#ab63fa\", \"#FFA15A\", \"#19d3f3\", \"#FF6692\", \"#B6E880\", \"#FF97FF\", \"#FECB52\"], \"font\": {\"color\": \"#2a3f5f\"}, \"geo\": {\"bgcolor\": \"white\", \"lakecolor\": \"white\", \"landcolor\": \"#E5ECF6\", \"showlakes\": true, \"showland\": true, \"subunitcolor\": \"white\"}, \"hoverlabel\": {\"align\": \"left\"}, \"hovermode\": \"closest\", \"mapbox\": {\"style\": \"light\"}, \"paper_bgcolor\": \"white\", \"plot_bgcolor\": \"#E5ECF6\", \"polar\": {\"angularaxis\": {\"gridcolor\": \"white\", \"linecolor\": \"white\", \"ticks\": \"\"}, \"bgcolor\": \"#E5ECF6\", \"radialaxis\": {\"gridcolor\": \"white\", \"linecolor\": \"white\", \"ticks\": \"\"}}, \"scene\": {\"xaxis\": {\"backgroundcolor\": \"#E5ECF6\", \"gridcolor\": \"white\", \"gridwidth\": 2, \"linecolor\": \"white\", \"showbackground\": true, \"ticks\": \"\", \"zerolinecolor\": \"white\"}, \"yaxis\": {\"backgroundcolor\": \"#E5ECF6\", \"gridcolor\": \"white\", \"gridwidth\": 2, \"linecolor\": \"white\", \"showbackground\": true, \"ticks\": \"\", \"zerolinecolor\": \"white\"}, \"zaxis\": {\"backgroundcolor\": \"#E5ECF6\", \"gridcolor\": \"white\", \"gridwidth\": 2, \"linecolor\": \"white\", \"showbackground\": true, \"ticks\": \"\", \"zerolinecolor\": \"white\"}}, \"shapedefaults\": {\"line\": {\"color\": \"#2a3f5f\"}}, \"ternary\": {\"aaxis\": {\"gridcolor\": \"white\", \"linecolor\": \"white\", \"ticks\": \"\"}, \"baxis\": {\"gridcolor\": \"white\", \"linecolor\": \"white\", \"ticks\": \"\"}, \"bgcolor\": \"#E5ECF6\", \"caxis\": {\"gridcolor\": \"white\", \"linecolor\": \"white\", \"ticks\": \"\"}}, \"title\": {\"x\": 0.05}, \"xaxis\": {\"automargin\": true, \"gridcolor\": \"white\", \"linecolor\": \"white\", \"ticks\": \"\", \"title\": {\"standoff\": 15}, \"zerolinecolor\": \"white\", \"zerolinewidth\": 2}, \"yaxis\": {\"automargin\": true, \"gridcolor\": \"white\", \"linecolor\": \"white\", \"ticks\": \"\", \"title\": {\"standoff\": 15}, \"zerolinecolor\": \"white\", \"zerolinewidth\": 2}}}, \"title\": {\"text\": \"Drugs Combination causing reactions in patients when consumed together\"}, \"xaxis\": {\"anchor\": \"y\", \"domain\": [0.0, 1.0], \"title\": {\"text\": \"INDEX\"}}, \"yaxis\": {\"anchor\": \"x\", \"categoryarray\": [\"ASPIRIN,SYNTHROID\", \"REMODULIN,ADCIRCA\", \"METHOTREXATE,CYCLOPHOSPHAMIDE\", \"YAZ,YASMIN\", \"HUMIRA,FOLIC ACID\", \"AMLODIPINE,METOPROLOL\", \"LETAIRIS,WARFARIN\", \"METFORMIN,SIMVASTATIN\", \"METHOTREXATE,PREDNISONE\", \"METHOTREXATE,PROGRAF\", \"ATORVASTATIN,LIPITOR\", \"OMNISCAN,GADOLINIUM (UNSPECIFIED)\", \"SIMVASTATIN,METOPROLOL\", \"ASPIRIN,CRESTOR\", \"LISINOPRIL,METOPROLOL\"], \"categoryorder\": \"array\", \"domain\": [0.0, 1.0], \"title\": {\"text\": \"DRUG COMBINATION\"}}},                        {\"responsive\": true}                    ).then(function(){\n",
       "                            \n",
       "var gd = document.getElementById('9ca1e0d7-8a9a-467c-abea-601d7c72ed8b');\n",
       "var x = new MutationObserver(function (mutations, observer) {{\n",
       "        var display = window.getComputedStyle(gd).display;\n",
       "        if (!display || display === 'none') {{\n",
       "            console.log([gd, 'removed!']);\n",
       "            Plotly.purge(gd);\n",
       "            observer.disconnect();\n",
       "        }}\n",
       "}});\n",
       "\n",
       "// Listen for the removal of the full notebook cells\n",
       "var notebookContainer = gd.closest('#notebook-container');\n",
       "if (notebookContainer) {{\n",
       "    x.observe(notebookContainer, {childList: true});\n",
       "}}\n",
       "\n",
       "// Listen for the clearing of the current output cell\n",
       "var outputEl = gd.closest('.output');\n",
       "if (outputEl) {{\n",
       "    x.observe(outputEl, {childList: true});\n",
       "}}\n",
       "\n",
       "                        })                };                });            </script>        </div>"
      ]
     },
     "metadata": {},
     "output_type": "display_data"
    },
    {
     "name": "stdout",
     "output_type": "stream",
     "text": [
      "The graph Flags the combination of drugs which have caused reactions in patients when consumed together, taking threshold as minimum of 30 cases reported with the same combinations\n"
     ]
    }
   ],
   "source": [
    "try:\n",
    "    if i is not None:\n",
    "        to_delete = []\n",
    "        n = len(i)\n",
    "        for j in range(0, n):\n",
    "            if(n==88):\n",
    "                break\n",
    "            a = i.iloc[j][\"drug1\"]\n",
    "            b = i.iloc[j][\"drug2\"]\n",
    "            x = i[(i[\"drug1\"]==b) & (i[\"drug2\"]==a)].index\n",
    "            i = i.drop(x)\n",
    "            if len(x) > 0:\n",
    "                n=n - 1\n",
    "    else:\n",
    "        print(\"No combinations found\")\n",
    "    drugs_combined = pd.DataFrame(i[\"drug1\"]+','+i[\"drug2\"])\n",
    "    drugs_combined[\"Count\"] = i[\"drug2\"]\n",
    "    drugs_combined=drugs_combined[0].reset_index(name=\"Drug_Combination\")\n",
    "    fig = px.scatter(drugs_combined.tail(15), x=\"index\", y=\"Drug_Combination\", labels = {\"Drug_Combination\":\"DRUG COMBINATION\", \"index\":\"INDEX\"},\n",
    "        size=\"index\", \n",
    "                 color=\"Drug_Combination\", title=\"Drugs Combination causing reactions in patients when consumed together\")\n",
    "    fig.show()\n",
    "    print('''The graph Flags the combination of drugs which have caused reactions in patients when consumed together, taking threshold as minimum of 30 cases reported with the same combinations''')\n",
    "except:\n",
    "    print('Unable to plot data for commonly reported drugs! ')"
   ]
  },
  {
   "cell_type": "markdown",
   "metadata": {},
   "source": [
    "### Drugs Recalled wrt to States and Classification"
   ]
  },
  {
   "cell_type": "code",
   "execution_count": null,
   "metadata": {
    "ExecuteTime": {
     "end_time": "2021-04-27T16:14:24.463469Z",
     "start_time": "2021-04-27T16:14:24.277799Z"
    }
   },
   "outputs": [],
   "source": [
    "\n",
    "query = 'SELECT country, classification, state, report_date FROM drugs_recalled;'\n",
    "bar_line_df = postgres_conn.get_data(query)\n",
    "try:\n",
    "    if bar_line_df is not None:\n",
    "\n",
    "        print('''\n",
    "        The FDA classifies each recall in three classes, namely Class I, Class II, Class III, Class I being the most hazardous to public.\n",
    "        To visualize the trends of we've tried to create a line chart to understand the trends.\n",
    "        ''')\n",
    "\n",
    "        figure = go.FigureWidget(layout = dict(title='Overall Recall Enforced Trend over the years'))\n",
    "        for classification in bar_line_df['classification'].unique():\n",
    "            temp_df = bar_line_df[(bar_line_df['classification']==classification)]\n",
    "            values = temp_df['report_date'].value_counts().reset_index().sort_values(by='index')\n",
    "            trace = go.Scatter(mode = 'lines', x = values['index'].astype('str'), y = values['report_date'], name=classification)\n",
    "            figure.add_trace(trace)\n",
    "        figure.update_layout(xaxis={'title':'Month Recall was Enforced'}, yaxis={'title':'Number of Dugs Recalled'})\n",
    "        figure.show()\n",
    "        print('''Insights:\n",
    "    Annually an average of 1171.5 of recalls are enforced by FDA out if which 925.5 of them belong to Class II hazardous classification that is the drugs may have adversible health consequences.\n",
    "\n",
    "    In March,2019 533 recalls were enforced by FDA out of which 471, nearly 89%(can be seen as a spike in red), were classified as Class I drugs i.e. the drug recalled had a high probability of causing adverse health consequences or even cause death.''')\n",
    "except:\n",
    "    print('Unable to create classification trend over the years.')"
   ]
  },
  {
   "cell_type": "code",
   "execution_count": null,
   "metadata": {
    "ExecuteTime": {
     "end_time": "2021-04-27T16:14:38.460557Z",
     "start_time": "2021-04-27T16:14:35.784188Z"
    },
    "scrolled": false
   },
   "outputs": [],
   "source": [
    "print('''\n",
    "The following visualizations are year wise distibution of the graph above. \n",
    "They are accompained by a visual for the year containing info for number of recalls enforced in each class by States in USA.\n",
    "The graphs explains info regarding recalls by classification and state for a particular year. \n",
    "''')\n",
    "\n",
    "if bar_line_df is not None:\n",
    "    bar_line_df['year'] = bar_line_df['report_date'].dt.year\n",
    "    bar_line_df['report_date'] = pd.to_datetime(bar_line_df['report_date'].dt.strftime('%Y-%m'))\n",
    "    bar_line_df = bar_line_df[bar_line_df['country']=='United States']\n",
    "    figure_dict = {}\n",
    "\n",
    "\n",
    "\n",
    "    for year in sorted(bar_line_df['year'].unique()):\n",
    "        figure = go.FigureWidget(layout = dict(width=400, height=400, title=str(year)))\n",
    "        for classification in bar_line_df['classification'].unique():\n",
    "            temp_df = bar_line_df[(bar_line_df['classification']==classification)& (bar_line_df['year']==year)]\n",
    "            values = temp_df['report_date'].value_counts().reset_index().sort_values(by='index')\n",
    "            trace = go.Scatter(mode = 'lines', x = values['index'].astype('str'), y = values['report_date'], name=classification)\n",
    "            figure.add_trace(trace)\n",
    "        figure.update_layout(xaxis={'title':'report_date'}, yaxis={'title':'Number of Dugs Recalled'})\n",
    "        temp_df_2 = bar_line_df[bar_line_df['year']==year][['state', 'classification']].value_counts()\n",
    "        temp_df_2 = temp_df_2.reset_index()\n",
    "        temp_df_2.rename(columns = {0:'Drugs_Recalled'}, inplace=True)\n",
    "        fig = px.bar(temp_df_2, x = 'classification', y='Drugs_Recalled',\n",
    "                     color ='state', barmode='group',\n",
    "                     width=400, height=400\n",
    "                    )\n",
    "        figure_2 = go.FigureWidget(fig)\n",
    "        figure_dict[year] = [figure, figure_2]\n",
    "\n",
    "    for year, figure_list in figure_dict.items():\n",
    "        display(widgets.HBox(figure_list))"
   ]
  },
  {
   "cell_type": "code",
   "execution_count": null,
   "metadata": {
    "ExecuteTime": {
     "end_time": "2021-04-27T16:14:38.544592Z",
     "start_time": "2021-04-27T16:14:38.540824Z"
    }
   },
   "outputs": [],
   "source": [
    "print('''Insights:\n",
    "\n",
    "1. In January 2014, 622 Class II drugs enforcement recalls were issued by FDA, which were nearly twice the enforcement issued in previous month.\n",
    "2. In March 2019, it was North Carolina where FDA enforced 461 recalls of Class I hazardous drug.\n",
    "3. There has been a decline of nearly 55%(2019-2020) in the enforcements issued by FDA.\\n''')\n"
   ]
  },
  {
   "cell_type": "markdown",
   "metadata": {},
   "source": [
    "### Creating TreeMap Graph to understand reason of Recall by each State"
   ]
  },
  {
   "cell_type": "code",
   "execution_count": null,
   "metadata": {
    "ExecuteTime": {
     "end_time": "2021-04-27T16:14:49.803570Z",
     "start_time": "2021-04-27T16:14:47.542716Z"
    }
   },
   "outputs": [],
   "source": [
    "query = 'SELECT country, state, reason_main, reason_description FROM drugs_recalled;'\n",
    "drugs_df = postgres_conn.get_data(query)\n",
    "print('''\\nThe TreeMap shows Reasons for recall by each state, the size and color of the tile explains the number of recalls\n",
    "enforced by FDA in that tile.\n",
    "The treemap follows the following path:\n",
    "Country-> State-> Reason Category-> Reason Description\n",
    "''')\n",
    "\n",
    "if drugs_df is not None:\n",
    "    grouped_df = drugs_df.groupby(by=['country','state','reason_main', 'reason_description']).agg({'reason_main':'count'})\n",
    "    grouped_df.rename(columns= {'reason_main':\"Count\"}, inplace=True)\n",
    "    grouped_df.reset_index(inplace=True)\n",
    "    grouped_df['reason'] = ['Reasons for Recall']*len(grouped_df)\n",
    "    fig = px.treemap(grouped_df,\n",
    "                     path=['reason','country','state','reason_main', 'reason_description'],\n",
    "                     values='Count',\n",
    "                     color='Count',\n",
    "                     maxdepth=3,\n",
    "                     color_continuous_scale = 'blues',\n",
    "                     title='Reasons for Recall by States'\n",
    "                    )\n",
    "    fig.show()\n",
    "print('''Insights:\n",
    "1. For North Carolina, the reason for recall enforced by FDA in March 2019, was presence of MICROBIAL CONTAMINATION in drugs.\n",
    "\n",
    "2. FDA has issued 466 enforcements of recall in Ontario, Canada because of the presence of Penicillin Cross Contamination in drugs.\n",
    "\n",
    "3. Top 5 states where recalls were enforced:\n",
    "\n",
    "    A. Florida, USA\n",
    "    B. New Jersey, USA\n",
    "    C. Illinois, USA\n",
    "    D. Tennesse, USA\n",
    "    E. California, USA\n",
    "\n",
    "4. Top 5 reasons for recall were:\n",
    "\n",
    "    A. Lack of Assurance of Sterility\n",
    "    B. CGMP Deviations\n",
    "    C. Labelling\n",
    "    D. Penicillin Cross Contamination\n",
    "    E. Microbial Contamination\n",
    "\n",
    "''')"
   ]
  },
  {
   "cell_type": "markdown",
   "metadata": {},
   "source": [
    "### Insight on Time taken by FDA to terminate report"
   ]
  },
  {
   "cell_type": "code",
   "execution_count": null,
   "metadata": {
    "ExecuteTime": {
     "end_time": "2021-04-27T16:14:57.100226Z",
     "start_time": "2021-04-27T16:14:56.972214Z"
    }
   },
   "outputs": [],
   "source": [
    "print('''\n",
    "Since the initiation of recall reported by the Drugs, FDA takes signifcant amount of time to make sure that\n",
    "everything is in accordance with Recall Enforcement Guidelines.\n",
    "The below table shows minimum and maximum time taken by FDA by each classification to Terminate the Recall Report.\n",
    "''')\n",
    "query = 'SELECT classification, time_diff FROM drugs_recalled;'\n",
    "time_diff_df = postgres_conn.get_data(query)\n",
    "time_diff_df['time_diff'] = ((pd.to_timedelta(time_diff_df['time_diff']))/np.timedelta64(1, 'M')).round()\n",
    "time_diff_df = time_diff_df[~(time_diff_df['classification']=='Not Yet Classified')]\n",
    "display(pd.DataFrame(time_diff_df.groupby('classification')['time_diff'].max()))\n",
    "display(pd.DataFrame(time_diff_df.groupby('classification')['time_diff'].min()))\n",
    "print('''Insights:\n",
    "1. Since the initiation of recall, it took a maximum of 90 months by FDA to ensure all the reasonable efforts have been made to remove the product or correct it in accordance with recall strategy.\n",
    "2. Class II, III recalls can be terminated in span of a month as well.''')"
   ]
  },
  {
   "cell_type": "markdown",
   "metadata": {},
   "source": [
    "### Combined Visualisations"
   ]
  },
  {
   "cell_type": "code",
   "execution_count": null,
   "metadata": {
    "ExecuteTime": {
     "end_time": "2021-04-28T17:50:01.198812Z",
     "start_time": "2021-04-28T17:50:01.128458Z"
    }
   },
   "outputs": [],
   "source": [
    "display(widgets.HTML('<h3><b>Combined Visualization</b></h3>'))\n",
    "query = 'SELECT brand_name, recall_initiation_date, classification, status time_diff FROM drugs_recalled where brand_name IS NOT NULL;'\n",
    "recall_enforced_brands = postgres_conn.get_data(query)"
   ]
  },
  {
   "cell_type": "code",
   "execution_count": null,
   "metadata": {
    "ExecuteTime": {
     "end_time": "2021-04-28T17:50:02.258139Z",
     "start_time": "2021-04-28T17:50:01.953254Z"
    }
   },
   "outputs": [],
   "source": [
    "query = 'SELECT * from drugs_event_lists'\n",
    "drug_list = postgres_conn.get_data(query)"
   ]
  },
  {
   "cell_type": "code",
   "execution_count": null,
   "metadata": {
    "ExecuteTime": {
     "end_time": "2021-04-28T17:50:02.889096Z",
     "start_time": "2021-04-28T17:50:02.763998Z"
    }
   },
   "outputs": [],
   "source": [
    "result=pd.merge(drug_list, recall_enforced_brands,on=\"brand_name\",how=\"inner\")\n",
    "result = pd.DataFrame(result)\n",
    "result = result.groupby([\"brand_name\"]).first()\n",
    "print('''\n",
    "* Performing inner join on drug_list and drug_recall_dataframe on drug names\n",
    "* Plotting the drugs which have been recalled before or after an event was registered to FDA.\n",
    "* The first event reported by a patient has been taken for insight'''\n",
    "     )\n",
    "\n",
    "# taking the month difference on drug recalling and drug event being reported\n",
    "result['time_delta'] = ((pd.to_datetime(result.recall_initiation_date) - pd.to_datetime(result.drug_event_date)))/np.timedelta64(1, 'M')\n",
    "result['time_delta'] = result['time_delta'].astype(int)\n",
    "\n",
    "result1=pd.merge(drug_list, recall_enforced_brands,on=\"brand_name\",how=\"inner\")\n",
    "result1 = result1.drop_duplicates()\n",
    "\n",
    "#Taking the count of events reported before a drug had been recalled.\n",
    "result1=result1.groupby(\"brand_name\").brand_name.count().sort_values(ascending=False).head(40).sort_index()\n",
    "result1=pd.DataFrame(result1)\n",
    "merged_df = pd.merge( result1,result, left_index=True,right_index=True, how='inner')\n"
   ]
  },
  {
   "cell_type": "code",
   "execution_count": null,
   "metadata": {
    "ExecuteTime": {
     "end_time": "2021-04-28T17:50:07.372678Z",
     "start_time": "2021-04-28T17:50:07.333603Z"
    },
    "scrolled": false
   },
   "outputs": [],
   "source": [
    "# Create figure with secondary y-axis\n",
    "fig = make_subplots(specs=[[{\"secondary_y\": True}]])\n",
    "print('''\n",
    "Insights:\n",
    "1. The Graph gives us the Drugs which were reported by a patient which were recalled successfully by FDA.\n",
    "2. The months taken for FDA to recall a drug successfully by FDA\n",
    "3. By this we can see a huge difference for a drug to be recalled, \\n this is an indication for FDA to look into the Drug Events reported by public and other healthcare professionals'''\n",
    "    )\n",
    "print('''\n",
    "1. The red line represents the number of times the drug was reported by public and health professionals before the recall was initiated\n",
    "''')\n",
    "\n",
    "# fig=go.Figure()\n",
    "fig.add_trace(\n",
    "        go.Bar(x = merged_df.index, y = merged_df[\"time_delta\"], name='Months Taken'),secondary_y=False)\n",
    "fig.add_trace(\n",
    "        go.Scatter(x = merged_df.index, y = merged_df.brand_name, name='Cases Reported'), secondary_y=True)\n",
    "fig.update_layout(\n",
    "    title=\"Months taken to recall and Events Reported against the Drug\",\n",
    "    xaxis_title=\"Drug Names\",\n",
    "    yaxis_title=\"Months taken \",\n",
    "    legend_title=\"Legend Title\",\n",
    "    font=dict(\n",
    "        family=\"Courier New, monospace\",\n",
    "        size=13,\n",
    "        color=\"Black\"\n",
    "    )\n",
    ")\n",
    "fig.update_yaxes(secondary_y=True, range = [merged_df[\"time_delta\"].min(), merged_df[\"brand_name\"].max()])\n",
    "fig.show()"
   ]
  },
  {
   "cell_type": "code",
   "execution_count": null,
   "metadata": {
    "ExecuteTime": {
     "end_time": "2021-04-27T21:47:35.445886Z",
     "start_time": "2021-04-27T21:47:35.374557Z"
    },
    "scrolled": false
   },
   "outputs": [],
   "source": [
    "# display(widgets.HTML('<h4><b>Months taken to recall and Events Reported against the Drug</b></h4>'))\n",
    "fig = go.Figure().add_trace(go.Mesh3d(x=merged_df.index,\n",
    "                   y=merged_df[\"time_delta\"],\n",
    "                   z=merged_df.brand_name,\n",
    "                   opacity=0.5\n",
    "                  ))\n",
    "fig.update_layout(scene = dict(\n",
    "                    xaxis_title='Brands',\n",
    "                    yaxis_title='Months Taken',\n",
    "                    zaxis_title='Cases Reported'),\n",
    "                    width=600,\n",
    "                    height=600,\n",
    "                    margin=dict(r=20, b=10, l=10, t=10),\n",
    "                  \n",
    "                 )\n",
    "fig.show()"
   ]
  },
  {
   "cell_type": "code",
   "execution_count": null,
   "metadata": {
    "ExecuteTime": {
     "end_time": "2021-04-28T18:08:51.643443Z",
     "start_time": "2021-04-28T18:08:51.553546Z"
    },
    "scrolled": false
   },
   "outputs": [],
   "source": [
    "#Checking for the drugs listed above which have caused serious lifethreatning events by taking threshold as minimum of 1 case reported \n",
    "\n",
    "drugs_serious = postgres_conn.get_data(\"select b.brand_name from drugs_event_lists b where b.safety_report_id in (select safety_report_id from drugs_event where  seriousness_lifethreatening = '1' or seriousness_congenitalanomali = '1')group by b.brand_name having count(*) > 1 order by count(*) desc\")\n",
    "print('''\\n\\n*Selecting the drugs which are life threatning as reported by public or health professional\\n from the drugs listed on the graph\\n\\n''')\n",
    "\n",
    "\n",
    "#A list of life threatining drugs are seen below\n",
    "drugs_serious.rename(columns = {0 : 'Drug_Name'}, inplace = True)\n",
    "\n",
    "\n",
    "fig = go.Figure(data=[go.Table(header=dict(values=['BRAND_NAME']),\n",
    "                 cells=dict(values=[drugs_serious.brand_name]))\n",
    "                     ])\n",
    "\n",
    "fig.show()\n",
    "print('''The list of drug names which are life threatening as repoted by consumers''')\n"
   ]
  },
  {
   "cell_type": "code",
   "execution_count": null,
   "metadata": {
    "ExecuteTime": {
     "end_time": "2021-04-28T18:09:00.433162Z",
     "start_time": "2021-04-28T18:08:57.066988Z"
    }
   },
   "outputs": [],
   "source": [
    "drugs_serious_recalled = postgres_conn.get_data(\"select  b.brand_name, min(b.recall_initiation_date) as report, min(e.drug_event_date) as event from drugs_recalled b,drugs_event_lists e where b.brand_name in (select b.brand_name from drugs_event_lists b where b.safety_report_id in (select safety_report_id from drugs_event where  seriousness_lifethreatening = '1' or seriousness_congenitalanomali = '1')group by b.brand_name having count(*) > 5 order by count(*) desc) group by b.brand_name\")\n",
    "drugs_serious_recalled.rename(columns = {0 : 'Drug_Name', 'report' : 'Recall_DATE', 'event' : 'Event_DATE'}, inplace = True)\n",
    "drugs_serious_recalled[\"Event_DATE\"]=pd.to_datetime(drugs_serious_recalled[\"Event_DATE\"], format='%Y-%m-%d')"
   ]
  },
  {
   "cell_type": "code",
   "execution_count": null,
   "metadata": {
    "ExecuteTime": {
     "end_time": "2021-04-28T18:09:20.764941Z",
     "start_time": "2021-04-28T18:09:20.745409Z"
    },
    "scrolled": false
   },
   "outputs": [],
   "source": [
    "fig = go.Figure(data=[go.Table(header=dict(values=['BRAND_NAME','Recall_DATE','Event_DATE']),\n",
    "                 cells=dict(values=[drugs_serious_recalled.brand_name, drugs_serious_recalled.Recall_DATE, drugs_serious_recalled.Event_DATE]))\n",
    "                     ])\n",
    "fig.show()\n",
    "print('''INSIGHTS:\\n''')\n",
    "print('''*The following list of drugs shows thhe time difference btw the drug first reported and the drug recall initiation date\\n''')\n",
    "print('''*We can see that many drugs in the previous table has not been recalled yet.\\n''')\n",
    "print('''*This has to be taken care by FDA.''')"
   ]
  },
  {
   "cell_type": "code",
   "execution_count": null,
   "metadata": {},
   "outputs": [],
   "source": []
  }
 ],
 "metadata": {
  "kernelspec": {
   "display_name": "Python 3",
   "language": "python",
   "name": "python3"
  },
  "language_info": {
   "codemirror_mode": {
    "name": "ipython",
    "version": 3
   },
   "file_extension": ".py",
   "mimetype": "text/x-python",
   "name": "python",
   "nbconvert_exporter": "python",
   "pygments_lexer": "ipython3",
   "version": "3.8.5"
  },
  "toc": {
   "base_numbering": 1,
   "nav_menu": {},
   "number_sections": true,
   "sideBar": true,
   "skip_h1_title": false,
   "title_cell": "Table of Contents",
   "title_sidebar": "Contents",
   "toc_cell": false,
   "toc_position": {},
   "toc_section_display": true,
   "toc_window_display": true
  }
 },
 "nbformat": 4,
 "nbformat_minor": 4
}
