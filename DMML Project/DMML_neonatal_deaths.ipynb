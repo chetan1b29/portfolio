{
 "cells": [
  {
   "cell_type": "markdown",
   "metadata": {},
   "source": [
    "### Imports"
   ]
  },
  {
   "cell_type": "code",
   "execution_count": 1,
   "metadata": {
    "ExecuteTime": {
     "end_time": "2021-05-01T12:13:59.298583Z",
     "start_time": "2021-05-01T12:13:57.715019Z"
    }
   },
   "outputs": [],
   "source": [
    "import pandas as pd\n",
    "import numpy as np\n",
    "from sklearn.preprocessing import OneHotEncoder, MinMaxScaler\n",
    "from sklearn.model_selection import train_test_split\n",
    "from sklearn.neighbors import KNeighborsClassifier\n",
    "from sklearn.preprocessing import StandardScaler\n",
    "from sklearn import metrics\n",
    "from sklearn.metrics import confusion_matrix\n",
    "from sklearn.ensemble import RandomForestClassifier\n",
    "import seaborn as sns\n",
    "import matplotlib.pyplot as plt"
   ]
  },
  {
   "cell_type": "code",
   "execution_count": 50,
   "metadata": {
    "ExecuteTime": {
     "end_time": "2021-05-01T21:28:53.501010Z",
     "start_time": "2021-05-01T21:28:50.511300Z"
    }
   },
   "outputs": [],
   "source": [
    "neonatal_df = pd.read_excel('Data 2021-02-27 15-23.xlsx')"
   ]
  },
  {
   "cell_type": "code",
   "execution_count": 40,
   "metadata": {
    "ExecuteTime": {
     "end_time": "2021-05-01T19:31:57.939170Z",
     "start_time": "2021-05-01T19:31:57.921121Z"
    }
   },
   "outputs": [],
   "source": [
    "neonatal_df.rename(columns={'WHO Region':'region','World Bank Income Group':'income_group', 'Country ISO Code':'country_code'}, inplace=True)"
   ]
  },
  {
   "cell_type": "markdown",
   "metadata": {},
   "source": [
    "### EDA"
   ]
  },
  {
   "cell_type": "code",
   "execution_count": 4,
   "metadata": {
    "ExecuteTime": {
     "end_time": "2021-05-01T12:14:03.858221Z",
     "start_time": "2021-05-01T12:14:03.811340Z"
    },
    "scrolled": true
   },
   "outputs": [
    {
     "data": {
      "text/html": [
       "<div>\n",
       "<style scoped>\n",
       "    .dataframe tbody tr th:only-of-type {\n",
       "        vertical-align: middle;\n",
       "    }\n",
       "\n",
       "    .dataframe tbody tr th {\n",
       "        vertical-align: top;\n",
       "    }\n",
       "\n",
       "    .dataframe thead th {\n",
       "        text-align: right;\n",
       "    }\n",
       "</style>\n",
       "<table border=\"1\" class=\"dataframe\">\n",
       "  <thead>\n",
       "    <tr style=\"text-align: right;\">\n",
       "      <th></th>\n",
       "      <th>Year</th>\n",
       "      <th>Sex</th>\n",
       "      <th>Global</th>\n",
       "      <th>Value</th>\n",
       "    </tr>\n",
       "  </thead>\n",
       "  <tbody>\n",
       "    <tr>\n",
       "      <th>count</th>\n",
       "      <td>30000.00000</td>\n",
       "      <td>0.0</td>\n",
       "      <td>0.0</td>\n",
       "      <td>30000.000000</td>\n",
       "    </tr>\n",
       "    <tr>\n",
       "      <th>mean</th>\n",
       "      <td>2008.49660</td>\n",
       "      <td>NaN</td>\n",
       "      <td>NaN</td>\n",
       "      <td>1327.957963</td>\n",
       "    </tr>\n",
       "    <tr>\n",
       "      <th>std</th>\n",
       "      <td>5.18996</td>\n",
       "      <td>NaN</td>\n",
       "      <td>NaN</td>\n",
       "      <td>11348.006928</td>\n",
       "    </tr>\n",
       "    <tr>\n",
       "      <th>min</th>\n",
       "      <td>2000.00000</td>\n",
       "      <td>NaN</td>\n",
       "      <td>NaN</td>\n",
       "      <td>0.000000</td>\n",
       "    </tr>\n",
       "    <tr>\n",
       "      <th>25%</th>\n",
       "      <td>2004.00000</td>\n",
       "      <td>NaN</td>\n",
       "      <td>NaN</td>\n",
       "      <td>0.000000</td>\n",
       "    </tr>\n",
       "    <tr>\n",
       "      <th>50%</th>\n",
       "      <td>2008.00000</td>\n",
       "      <td>NaN</td>\n",
       "      <td>NaN</td>\n",
       "      <td>9.178362</td>\n",
       "    </tr>\n",
       "    <tr>\n",
       "      <th>75%</th>\n",
       "      <td>2013.00000</td>\n",
       "      <td>NaN</td>\n",
       "      <td>NaN</td>\n",
       "      <td>192.601105</td>\n",
       "    </tr>\n",
       "    <tr>\n",
       "      <th>max</th>\n",
       "      <td>2017.00000</td>\n",
       "      <td>NaN</td>\n",
       "      <td>NaN</td>\n",
       "      <td>403786.875000</td>\n",
       "    </tr>\n",
       "  </tbody>\n",
       "</table>\n",
       "</div>"
      ],
      "text/plain": [
       "              Year  Sex  Global          Value\n",
       "count  30000.00000  0.0     0.0   30000.000000\n",
       "mean    2008.49660  NaN     NaN    1327.957963\n",
       "std        5.18996  NaN     NaN   11348.006928\n",
       "min     2000.00000  NaN     NaN       0.000000\n",
       "25%     2004.00000  NaN     NaN       0.000000\n",
       "50%     2008.00000  NaN     NaN       9.178362\n",
       "75%     2013.00000  NaN     NaN     192.601105\n",
       "max     2017.00000  NaN     NaN  403786.875000"
      ]
     },
     "execution_count": 4,
     "metadata": {},
     "output_type": "execute_result"
    }
   ],
   "source": [
    "neonatal_df.describe()"
   ]
  },
  {
   "cell_type": "code",
   "execution_count": 5,
   "metadata": {
    "ExecuteTime": {
     "end_time": "2021-05-01T12:14:08.568823Z",
     "start_time": "2021-05-01T12:14:07.999409Z"
    }
   },
   "outputs": [
    {
     "data": {
      "text/plain": [
       "<AxesSubplot:>"
      ]
     },
     "execution_count": 5,
     "metadata": {},
     "output_type": "execute_result"
    },
    {
     "data": {
      "image/png": "[encoded data removed]",
      "text/plain": [
       "<Figure size 432x288 with 1 Axes>"
      ]
     },
     "metadata": {
      "needs_background": "light"
     },
     "output_type": "display_data"
    }
   ],
   "source": [
    "neonatal_df['Value'].hist()"
   ]
  },
  {
   "cell_type": "code",
   "execution_count": 6,
   "metadata": {
    "ExecuteTime": {
     "end_time": "2021-05-01T12:14:08.806852Z",
     "start_time": "2021-05-01T12:14:08.769358Z"
    },
    "scrolled": true
   },
   "outputs": [
    {
     "data": {
      "text/plain": [
       "Africa                   8316\n",
       "Europe                   8064\n",
       "Americas                 5796\n",
       "Western Pacific          3288\n",
       "Eastern Mediterranean    2772\n",
       "South-East Asia          1764\n",
       "Name: region, dtype: int64"
      ]
     },
     "execution_count": 6,
     "metadata": {},
     "output_type": "execute_result"
    }
   ],
   "source": [
    "neonatal_df['region'].value_counts()"
   ]
  },
  {
   "cell_type": "code",
   "execution_count": 7,
   "metadata": {
    "ExecuteTime": {
     "end_time": "2021-05-01T12:14:13.147562Z",
     "start_time": "2021-05-01T12:14:13.109943Z"
    }
   },
   "outputs": [
    {
     "data": {
      "text/plain": [
       "Upper middle income    9336\n",
       "High income            8568\n",
       "Lower middle income    7056\n",
       "Low income             5040\n",
       "Name: income_group, dtype: int64"
      ]
     },
     "execution_count": 7,
     "metadata": {},
     "output_type": "execute_result"
    }
   ],
   "source": [
    "neonatal_df['income_group'].value_counts()"
   ]
  },
  {
   "cell_type": "markdown",
   "metadata": {},
   "source": [
    "### Data Preparation"
   ]
  },
  {
   "cell_type": "code",
   "execution_count": 41,
   "metadata": {
    "ExecuteTime": {
     "end_time": "2021-05-01T19:32:03.479597Z",
     "start_time": "2021-05-01T19:32:03.450321Z"
    }
   },
   "outputs": [],
   "source": [
    "neonatal_df.drop(columns = ['Country', 'Sex', 'Global', 'Age Group'], inplace=True)\n",
    "neonatal_df = neonatal_df.dropna()"
   ]
  },
  {
   "cell_type": "code",
   "execution_count": 42,
   "metadata": {
    "ExecuteTime": {
     "end_time": "2021-05-01T19:32:04.422083Z",
     "start_time": "2021-05-01T19:32:04.390814Z"
    }
   },
   "outputs": [],
   "source": [
    "#Label Encoding on country code column\n",
    "neonatal_df['country_code'] = neonatal_df['country_code'].astype('category')\n",
    "neonatal_df['country_code_cat'] = neonatal_df['country_code'].cat.codes"
   ]
  },
  {
   "cell_type": "markdown",
   "metadata": {},
   "source": [
    "There are 120 unique country codes, so i tried three methods for creating dummies for this column:\n",
    "1. Label Encoding\n",
    "2. OnehotEncoding\n",
    "3. MeanEncoding"
   ]
  },
  {
   "cell_type": "code",
   "execution_count": 45,
   "metadata": {
    "ExecuteTime": {
     "end_time": "2021-05-01T19:32:27.888773Z",
     "start_time": "2021-05-01T19:32:27.864625Z"
    }
   },
   "outputs": [],
   "source": [
    "#Label Encoding for Region, Cause and Income Group\n",
    "neonatal_df['region'] = neonatal_df['region'].astype('category')\n",
    "neonatal_df['region_cat'] = neonatal_df['region'].cat.codes\n",
    "neonatal_df['Cause'] = neonatal_df['Cause'].astype('category')\n",
    "neonatal_df['cause_cat'] = neonatal_df['Cause'].cat.codes#This is my Target Variable\n",
    "neonatal_df['income_group'] = neonatal_df['income_group'].astype('category')\n",
    "neonatal_df['income_group_cat'] = neonatal_df['income_group'].cat.codes"
   ]
  },
  {
   "cell_type": "code",
   "execution_count": 47,
   "metadata": {
    "ExecuteTime": {
     "end_time": "2021-05-01T19:32:36.913500Z",
     "start_time": "2021-05-01T19:32:36.749457Z"
    }
   },
   "outputs": [],
   "source": [
    "#OneHotEncoding on country_code column\n",
    "oe_style = OneHotEncoder()\n",
    "oe_results = oe_style.fit_transform(neonatal_df[[\"country_code\"]])\n",
    "temp_df = pd.DataFrame(oe_results.toarray(), columns=oe_style.categories_)\n",
    "for col in temp_df.columns:\n",
    "    neonatal_df[col]=temp_df[col]"
   ]
  },
  {
   "cell_type": "code",
   "execution_count": 44,
   "metadata": {
    "ExecuteTime": {
     "end_time": "2021-05-01T19:32:24.456447Z",
     "start_time": "2021-05-01T19:32:24.418640Z"
    }
   },
   "outputs": [
    {
     "data": {
      "text/html": [
       "<div>\n",
       "<style scoped>\n",
       "    .dataframe tbody tr th:only-of-type {\n",
       "        vertical-align: middle;\n",
       "    }\n",
       "\n",
       "    .dataframe tbody tr th {\n",
       "        vertical-align: top;\n",
       "    }\n",
       "\n",
       "    .dataframe thead th {\n",
       "        text-align: right;\n",
       "    }\n",
       "</style>\n",
       "<table border=\"1\" class=\"dataframe\">\n",
       "  <thead>\n",
       "    <tr style=\"text-align: right;\">\n",
       "      <th></th>\n",
       "      <th>country_code</th>\n",
       "      <th>country_encd_mean</th>\n",
       "    </tr>\n",
       "  </thead>\n",
       "  <tbody>\n",
       "    <tr>\n",
       "      <th>0</th>\n",
       "      <td>AFG</td>\n",
       "      <td>3961.924645</td>\n",
       "    </tr>\n",
       "    <tr>\n",
       "      <th>1</th>\n",
       "      <td>AFG</td>\n",
       "      <td>3961.924645</td>\n",
       "    </tr>\n",
       "    <tr>\n",
       "      <th>2</th>\n",
       "      <td>AFG</td>\n",
       "      <td>3961.924645</td>\n",
       "    </tr>\n",
       "    <tr>\n",
       "      <th>3</th>\n",
       "      <td>AFG</td>\n",
       "      <td>3961.924645</td>\n",
       "    </tr>\n",
       "    <tr>\n",
       "      <th>4</th>\n",
       "      <td>AFG</td>\n",
       "      <td>3961.924645</td>\n",
       "    </tr>\n",
       "  </tbody>\n",
       "</table>\n",
       "</div>"
      ],
      "text/plain": [
       "  country_code country_encd_mean\n",
       "0          AFG       3961.924645\n",
       "1          AFG       3961.924645\n",
       "2          AFG       3961.924645\n",
       "3          AFG       3961.924645\n",
       "4          AFG       3961.924645"
      ]
     },
     "execution_count": 44,
     "metadata": {},
     "output_type": "execute_result"
    }
   ],
   "source": [
    "'''Mean Encoding on country_code column, this was implemented \n",
    " to capture information within labels or categories, rendering more predictive features.'''\n",
    "\n",
    "country_encd_mean = neonatal_df.groupby('country_code')['Value'].mean()\n",
    "neonatal_df['country_encd_mean'] = neonatal_df['country_code'].map(country_encd_mean)\n",
    "neonatal_df[['country_code', 'country_encd_mean']].head()"
   ]
  },
  {
   "cell_type": "markdown",
   "metadata": {},
   "source": [
    "### Correlation"
   ]
  },
  {
   "cell_type": "code",
   "execution_count": 46,
   "metadata": {
    "ExecuteTime": {
     "end_time": "2021-05-01T19:32:30.897199Z",
     "start_time": "2021-05-01T19:32:30.321397Z"
    },
    "scrolled": false
   },
   "outputs": [
    {
     "data": {
      "text/plain": [
       "<AxesSubplot:>"
      ]
     },
     "execution_count": 46,
     "metadata": {},
     "output_type": "execute_result"
    },
    {
     "data": {
      "image/png": "[encoded data removed]",
      "text/plain": [
       "<Figure size 1800x1440 with 2 Axes>"
      ]
     },
     "metadata": {
      "needs_background": "light"
     },
     "output_type": "display_data"
    }
   ],
   "source": [
    "\n",
    "plt.figure(figsize=(25, 20))\n",
    "sns.heatmap(neonatal_df.corr(), vmin=-1, vmax=1, annot=True)\n"
   ]
  },
  {
   "cell_type": "markdown",
   "metadata": {},
   "source": [
    "### Feature Dataframe Creation"
   ]
  },
  {
   "cell_type": "code",
   "execution_count": 14,
   "metadata": {
    "ExecuteTime": {
     "end_time": "2021-05-01T12:16:26.486711Z",
     "start_time": "2021-05-01T12:16:26.460667Z"
    }
   },
   "outputs": [],
   "source": [
    "feature_cols_label_encdng = ['Value','region_cat', 'income_group_cat', 'country_code_cat']\n",
    "feature_cols_onehot = [col for col in neonatal_df.columns if col not in ['region', \n",
    "                                                                       'income_group',\n",
    "                                                                       'country_code',\n",
    "                                                                       'Cause',\n",
    "                                                                       'cause_cat',\n",
    "                                                                       'country_code_cat'\n",
    "                                                                       'country_encd_mean'\n",
    "                                                                      ]]\n",
    "feature_cols_mean_encodng = ['Value','region_cat', 'income_group_cat', 'country_encd_mean']\n",
    "\n"
   ]
  },
  {
   "cell_type": "markdown",
   "metadata": {},
   "source": [
    "Feature Dataframe with Label Encoded Columns"
   ]
  },
  {
   "cell_type": "code",
   "execution_count": 15,
   "metadata": {
    "ExecuteTime": {
     "end_time": "2021-05-01T12:16:28.888105Z",
     "start_time": "2021-05-01T12:16:28.872463Z"
    }
   },
   "outputs": [
    {
     "data": {
      "text/html": [
       "<div>\n",
       "<style scoped>\n",
       "    .dataframe tbody tr th:only-of-type {\n",
       "        vertical-align: middle;\n",
       "    }\n",
       "\n",
       "    .dataframe tbody tr th {\n",
       "        vertical-align: top;\n",
       "    }\n",
       "\n",
       "    .dataframe thead th {\n",
       "        text-align: right;\n",
       "    }\n",
       "</style>\n",
       "<table border=\"1\" class=\"dataframe\">\n",
       "  <thead>\n",
       "    <tr style=\"text-align: right;\">\n",
       "      <th></th>\n",
       "      <th>Value</th>\n",
       "      <th>region_cat</th>\n",
       "      <th>income_group_cat</th>\n",
       "      <th>country_code_cat</th>\n",
       "    </tr>\n",
       "  </thead>\n",
       "  <tbody>\n",
       "    <tr>\n",
       "      <th>0</th>\n",
       "      <td>4356.749023</td>\n",
       "      <td>2</td>\n",
       "      <td>1</td>\n",
       "      <td>0</td>\n",
       "    </tr>\n",
       "    <tr>\n",
       "      <th>1</th>\n",
       "      <td>15645.974609</td>\n",
       "      <td>2</td>\n",
       "      <td>1</td>\n",
       "      <td>0</td>\n",
       "    </tr>\n",
       "    <tr>\n",
       "      <th>2</th>\n",
       "      <td>2904.053467</td>\n",
       "      <td>2</td>\n",
       "      <td>1</td>\n",
       "      <td>0</td>\n",
       "    </tr>\n",
       "    <tr>\n",
       "      <th>3</th>\n",
       "      <td>654.522766</td>\n",
       "      <td>2</td>\n",
       "      <td>1</td>\n",
       "      <td>0</td>\n",
       "    </tr>\n",
       "    <tr>\n",
       "      <th>4</th>\n",
       "      <td>0.000000</td>\n",
       "      <td>2</td>\n",
       "      <td>1</td>\n",
       "      <td>0</td>\n",
       "    </tr>\n",
       "    <tr>\n",
       "      <th>...</th>\n",
       "      <td>...</td>\n",
       "      <td>...</td>\n",
       "      <td>...</td>\n",
       "      <td>...</td>\n",
       "    </tr>\n",
       "    <tr>\n",
       "      <th>29995</th>\n",
       "      <td>0.000000</td>\n",
       "      <td>5</td>\n",
       "      <td>3</td>\n",
       "      <td>115</td>\n",
       "    </tr>\n",
       "    <tr>\n",
       "      <th>29996</th>\n",
       "      <td>0.000000</td>\n",
       "      <td>5</td>\n",
       "      <td>3</td>\n",
       "      <td>115</td>\n",
       "    </tr>\n",
       "    <tr>\n",
       "      <th>29997</th>\n",
       "      <td>0.240370</td>\n",
       "      <td>5</td>\n",
       "      <td>3</td>\n",
       "      <td>115</td>\n",
       "    </tr>\n",
       "    <tr>\n",
       "      <th>29998</th>\n",
       "      <td>0.003885</td>\n",
       "      <td>5</td>\n",
       "      <td>3</td>\n",
       "      <td>115</td>\n",
       "    </tr>\n",
       "    <tr>\n",
       "      <th>29999</th>\n",
       "      <td>2.162163</td>\n",
       "      <td>5</td>\n",
       "      <td>3</td>\n",
       "      <td>115</td>\n",
       "    </tr>\n",
       "  </tbody>\n",
       "</table>\n",
       "<p>30000 rows × 4 columns</p>\n",
       "</div>"
      ],
      "text/plain": [
       "              Value  region_cat  income_group_cat  country_code_cat\n",
       "0       4356.749023           2                 1                 0\n",
       "1      15645.974609           2                 1                 0\n",
       "2       2904.053467           2                 1                 0\n",
       "3        654.522766           2                 1                 0\n",
       "4          0.000000           2                 1                 0\n",
       "...             ...         ...               ...               ...\n",
       "29995      0.000000           5                 3               115\n",
       "29996      0.000000           5                 3               115\n",
       "29997      0.240370           5                 3               115\n",
       "29998      0.003885           5                 3               115\n",
       "29999      2.162163           5                 3               115\n",
       "\n",
       "[30000 rows x 4 columns]"
      ]
     },
     "execution_count": 15,
     "metadata": {},
     "output_type": "execute_result"
    }
   ],
   "source": [
    "feature_df_label = neonatal_df[feature_cols_label_encdng]\n",
    "feature_df_label"
   ]
  },
  {
   "cell_type": "markdown",
   "metadata": {},
   "source": [
    "Fature DataFrame with OnehotEncoded Categroical Column"
   ]
  },
  {
   "cell_type": "code",
   "execution_count": 16,
   "metadata": {
    "ExecuteTime": {
     "end_time": "2021-05-01T12:16:31.451867Z",
     "start_time": "2021-05-01T12:16:31.379923Z"
    }
   },
   "outputs": [
    {
     "name": "stderr",
     "output_type": "stream",
     "text": [
      "C:\\Users\\cheta\\anaconda3\\lib\\site-packages\\numpy\\core\\_asarray.py:83: VisibleDeprecationWarning: Creating an ndarray from ragged nested sequences (which is a list-or-tuple of lists-or-tuples-or ndarrays with different lengths or shapes) is deprecated. If you meant to do this, you must specify 'dtype=object' when creating the ndarray\n",
      "  return array(a, dtype, copy=False, order=order)\n"
     ]
    },
    {
     "data": {
      "text/html": [
       "<div>\n",
       "<style scoped>\n",
       "    .dataframe tbody tr th:only-of-type {\n",
       "        vertical-align: middle;\n",
       "    }\n",
       "\n",
       "    .dataframe tbody tr th {\n",
       "        vertical-align: top;\n",
       "    }\n",
       "\n",
       "    .dataframe thead th {\n",
       "        text-align: right;\n",
       "    }\n",
       "</style>\n",
       "<table border=\"1\" class=\"dataframe\">\n",
       "  <thead>\n",
       "    <tr style=\"text-align: right;\">\n",
       "      <th></th>\n",
       "      <th>Year</th>\n",
       "      <th>Value</th>\n",
       "      <th>country_code_cat</th>\n",
       "      <th>region_cat</th>\n",
       "      <th>income_group_cat</th>\n",
       "      <th>(AFG,)</th>\n",
       "      <th>(AGO,)</th>\n",
       "      <th>(ALB,)</th>\n",
       "      <th>(AND,)</th>\n",
       "      <th>(ARG,)</th>\n",
       "      <th>...</th>\n",
       "      <th>(MUS,)</th>\n",
       "      <th>(MWI,)</th>\n",
       "      <th>(MYS,)</th>\n",
       "      <th>(NAM,)</th>\n",
       "      <th>(NRU,)</th>\n",
       "      <th>(PRK,)</th>\n",
       "      <th>(SLV,)</th>\n",
       "      <th>(SWZ,)</th>\n",
       "      <th>(TCD,)</th>\n",
       "      <th>country_encd_mean</th>\n",
       "    </tr>\n",
       "  </thead>\n",
       "  <tbody>\n",
       "    <tr>\n",
       "      <th>0</th>\n",
       "      <td>2000.0</td>\n",
       "      <td>4356.749023</td>\n",
       "      <td>0</td>\n",
       "      <td>2</td>\n",
       "      <td>1</td>\n",
       "      <td>1.0</td>\n",
       "      <td>0.0</td>\n",
       "      <td>0.0</td>\n",
       "      <td>0.0</td>\n",
       "      <td>0.0</td>\n",
       "      <td>...</td>\n",
       "      <td>0.0</td>\n",
       "      <td>0.0</td>\n",
       "      <td>0.0</td>\n",
       "      <td>0.0</td>\n",
       "      <td>0.0</td>\n",
       "      <td>0.0</td>\n",
       "      <td>0.0</td>\n",
       "      <td>0.0</td>\n",
       "      <td>0.0</td>\n",
       "      <td>3961.924645</td>\n",
       "    </tr>\n",
       "    <tr>\n",
       "      <th>1</th>\n",
       "      <td>2000.0</td>\n",
       "      <td>15645.974609</td>\n",
       "      <td>0</td>\n",
       "      <td>2</td>\n",
       "      <td>1</td>\n",
       "      <td>1.0</td>\n",
       "      <td>0.0</td>\n",
       "      <td>0.0</td>\n",
       "      <td>0.0</td>\n",
       "      <td>0.0</td>\n",
       "      <td>...</td>\n",
       "      <td>0.0</td>\n",
       "      <td>0.0</td>\n",
       "      <td>0.0</td>\n",
       "      <td>0.0</td>\n",
       "      <td>0.0</td>\n",
       "      <td>0.0</td>\n",
       "      <td>0.0</td>\n",
       "      <td>0.0</td>\n",
       "      <td>0.0</td>\n",
       "      <td>3961.924645</td>\n",
       "    </tr>\n",
       "    <tr>\n",
       "      <th>2</th>\n",
       "      <td>2000.0</td>\n",
       "      <td>2904.053467</td>\n",
       "      <td>0</td>\n",
       "      <td>2</td>\n",
       "      <td>1</td>\n",
       "      <td>1.0</td>\n",
       "      <td>0.0</td>\n",
       "      <td>0.0</td>\n",
       "      <td>0.0</td>\n",
       "      <td>0.0</td>\n",
       "      <td>...</td>\n",
       "      <td>0.0</td>\n",
       "      <td>0.0</td>\n",
       "      <td>0.0</td>\n",
       "      <td>0.0</td>\n",
       "      <td>0.0</td>\n",
       "      <td>0.0</td>\n",
       "      <td>0.0</td>\n",
       "      <td>0.0</td>\n",
       "      <td>0.0</td>\n",
       "      <td>3961.924645</td>\n",
       "    </tr>\n",
       "    <tr>\n",
       "      <th>3</th>\n",
       "      <td>2000.0</td>\n",
       "      <td>654.522766</td>\n",
       "      <td>0</td>\n",
       "      <td>2</td>\n",
       "      <td>1</td>\n",
       "      <td>1.0</td>\n",
       "      <td>0.0</td>\n",
       "      <td>0.0</td>\n",
       "      <td>0.0</td>\n",
       "      <td>0.0</td>\n",
       "      <td>...</td>\n",
       "      <td>0.0</td>\n",
       "      <td>0.0</td>\n",
       "      <td>0.0</td>\n",
       "      <td>0.0</td>\n",
       "      <td>0.0</td>\n",
       "      <td>0.0</td>\n",
       "      <td>0.0</td>\n",
       "      <td>0.0</td>\n",
       "      <td>0.0</td>\n",
       "      <td>3961.924645</td>\n",
       "    </tr>\n",
       "    <tr>\n",
       "      <th>4</th>\n",
       "      <td>2000.0</td>\n",
       "      <td>0.000000</td>\n",
       "      <td>0</td>\n",
       "      <td>2</td>\n",
       "      <td>1</td>\n",
       "      <td>1.0</td>\n",
       "      <td>0.0</td>\n",
       "      <td>0.0</td>\n",
       "      <td>0.0</td>\n",
       "      <td>0.0</td>\n",
       "      <td>...</td>\n",
       "      <td>0.0</td>\n",
       "      <td>0.0</td>\n",
       "      <td>0.0</td>\n",
       "      <td>0.0</td>\n",
       "      <td>0.0</td>\n",
       "      <td>0.0</td>\n",
       "      <td>0.0</td>\n",
       "      <td>0.0</td>\n",
       "      <td>0.0</td>\n",
       "      <td>3961.924645</td>\n",
       "    </tr>\n",
       "    <tr>\n",
       "      <th>...</th>\n",
       "      <td>...</td>\n",
       "      <td>...</td>\n",
       "      <td>...</td>\n",
       "      <td>...</td>\n",
       "      <td>...</td>\n",
       "      <td>...</td>\n",
       "      <td>...</td>\n",
       "      <td>...</td>\n",
       "      <td>...</td>\n",
       "      <td>...</td>\n",
       "      <td>...</td>\n",
       "      <td>...</td>\n",
       "      <td>...</td>\n",
       "      <td>...</td>\n",
       "      <td>...</td>\n",
       "      <td>...</td>\n",
       "      <td>...</td>\n",
       "      <td>...</td>\n",
       "      <td>...</td>\n",
       "      <td>...</td>\n",
       "      <td>...</td>\n",
       "    </tr>\n",
       "    <tr>\n",
       "      <th>29995</th>\n",
       "      <td>2000.0</td>\n",
       "      <td>0.000000</td>\n",
       "      <td>115</td>\n",
       "      <td>5</td>\n",
       "      <td>3</td>\n",
       "      <td>0.0</td>\n",
       "      <td>0.0</td>\n",
       "      <td>0.0</td>\n",
       "      <td>0.0</td>\n",
       "      <td>0.0</td>\n",
       "      <td>...</td>\n",
       "      <td>0.0</td>\n",
       "      <td>0.0</td>\n",
       "      <td>0.0</td>\n",
       "      <td>0.0</td>\n",
       "      <td>1.0</td>\n",
       "      <td>0.0</td>\n",
       "      <td>0.0</td>\n",
       "      <td>0.0</td>\n",
       "      <td>0.0</td>\n",
       "      <td>0.362967</td>\n",
       "    </tr>\n",
       "    <tr>\n",
       "      <th>29996</th>\n",
       "      <td>2000.0</td>\n",
       "      <td>0.000000</td>\n",
       "      <td>115</td>\n",
       "      <td>5</td>\n",
       "      <td>3</td>\n",
       "      <td>0.0</td>\n",
       "      <td>0.0</td>\n",
       "      <td>0.0</td>\n",
       "      <td>0.0</td>\n",
       "      <td>0.0</td>\n",
       "      <td>...</td>\n",
       "      <td>0.0</td>\n",
       "      <td>0.0</td>\n",
       "      <td>0.0</td>\n",
       "      <td>0.0</td>\n",
       "      <td>1.0</td>\n",
       "      <td>0.0</td>\n",
       "      <td>0.0</td>\n",
       "      <td>0.0</td>\n",
       "      <td>0.0</td>\n",
       "      <td>0.362967</td>\n",
       "    </tr>\n",
       "    <tr>\n",
       "      <th>29997</th>\n",
       "      <td>2000.0</td>\n",
       "      <td>0.240370</td>\n",
       "      <td>115</td>\n",
       "      <td>5</td>\n",
       "      <td>3</td>\n",
       "      <td>0.0</td>\n",
       "      <td>0.0</td>\n",
       "      <td>0.0</td>\n",
       "      <td>0.0</td>\n",
       "      <td>0.0</td>\n",
       "      <td>...</td>\n",
       "      <td>0.0</td>\n",
       "      <td>0.0</td>\n",
       "      <td>0.0</td>\n",
       "      <td>0.0</td>\n",
       "      <td>1.0</td>\n",
       "      <td>0.0</td>\n",
       "      <td>0.0</td>\n",
       "      <td>0.0</td>\n",
       "      <td>0.0</td>\n",
       "      <td>0.362967</td>\n",
       "    </tr>\n",
       "    <tr>\n",
       "      <th>29998</th>\n",
       "      <td>2000.0</td>\n",
       "      <td>0.003885</td>\n",
       "      <td>115</td>\n",
       "      <td>5</td>\n",
       "      <td>3</td>\n",
       "      <td>0.0</td>\n",
       "      <td>0.0</td>\n",
       "      <td>0.0</td>\n",
       "      <td>0.0</td>\n",
       "      <td>0.0</td>\n",
       "      <td>...</td>\n",
       "      <td>0.0</td>\n",
       "      <td>0.0</td>\n",
       "      <td>0.0</td>\n",
       "      <td>0.0</td>\n",
       "      <td>1.0</td>\n",
       "      <td>0.0</td>\n",
       "      <td>0.0</td>\n",
       "      <td>0.0</td>\n",
       "      <td>0.0</td>\n",
       "      <td>0.362967</td>\n",
       "    </tr>\n",
       "    <tr>\n",
       "      <th>29999</th>\n",
       "      <td>2000.0</td>\n",
       "      <td>2.162163</td>\n",
       "      <td>115</td>\n",
       "      <td>5</td>\n",
       "      <td>3</td>\n",
       "      <td>0.0</td>\n",
       "      <td>0.0</td>\n",
       "      <td>0.0</td>\n",
       "      <td>0.0</td>\n",
       "      <td>0.0</td>\n",
       "      <td>...</td>\n",
       "      <td>0.0</td>\n",
       "      <td>0.0</td>\n",
       "      <td>0.0</td>\n",
       "      <td>0.0</td>\n",
       "      <td>1.0</td>\n",
       "      <td>0.0</td>\n",
       "      <td>0.0</td>\n",
       "      <td>0.0</td>\n",
       "      <td>0.0</td>\n",
       "      <td>0.362967</td>\n",
       "    </tr>\n",
       "  </tbody>\n",
       "</table>\n",
       "<p>30000 rows × 126 columns</p>\n",
       "</div>"
      ],
      "text/plain": [
       "         Year         Value  country_code_cat  region_cat  income_group_cat  \\\n",
       "0      2000.0   4356.749023                 0           2                 1   \n",
       "1      2000.0  15645.974609                 0           2                 1   \n",
       "2      2000.0   2904.053467                 0           2                 1   \n",
       "3      2000.0    654.522766                 0           2                 1   \n",
       "4      2000.0      0.000000                 0           2                 1   \n",
       "...       ...           ...               ...         ...               ...   \n",
       "29995  2000.0      0.000000               115           5                 3   \n",
       "29996  2000.0      0.000000               115           5                 3   \n",
       "29997  2000.0      0.240370               115           5                 3   \n",
       "29998  2000.0      0.003885               115           5                 3   \n",
       "29999  2000.0      2.162163               115           5                 3   \n",
       "\n",
       "       (AFG,)  (AGO,)  (ALB,)  (AND,)  (ARG,)  ...  (MUS,)  (MWI,)  (MYS,)  \\\n",
       "0         1.0     0.0     0.0     0.0     0.0  ...     0.0     0.0     0.0   \n",
       "1         1.0     0.0     0.0     0.0     0.0  ...     0.0     0.0     0.0   \n",
       "2         1.0     0.0     0.0     0.0     0.0  ...     0.0     0.0     0.0   \n",
       "3         1.0     0.0     0.0     0.0     0.0  ...     0.0     0.0     0.0   \n",
       "4         1.0     0.0     0.0     0.0     0.0  ...     0.0     0.0     0.0   \n",
       "...       ...     ...     ...     ...     ...  ...     ...     ...     ...   \n",
       "29995     0.0     0.0     0.0     0.0     0.0  ...     0.0     0.0     0.0   \n",
       "29996     0.0     0.0     0.0     0.0     0.0  ...     0.0     0.0     0.0   \n",
       "29997     0.0     0.0     0.0     0.0     0.0  ...     0.0     0.0     0.0   \n",
       "29998     0.0     0.0     0.0     0.0     0.0  ...     0.0     0.0     0.0   \n",
       "29999     0.0     0.0     0.0     0.0     0.0  ...     0.0     0.0     0.0   \n",
       "\n",
       "       (NAM,)  (NRU,)  (PRK,)  (SLV,)  (SWZ,)  (TCD,)  country_encd_mean  \n",
       "0         0.0     0.0     0.0     0.0     0.0     0.0        3961.924645  \n",
       "1         0.0     0.0     0.0     0.0     0.0     0.0        3961.924645  \n",
       "2         0.0     0.0     0.0     0.0     0.0     0.0        3961.924645  \n",
       "3         0.0     0.0     0.0     0.0     0.0     0.0        3961.924645  \n",
       "4         0.0     0.0     0.0     0.0     0.0     0.0        3961.924645  \n",
       "...       ...     ...     ...     ...     ...     ...                ...  \n",
       "29995     0.0     1.0     0.0     0.0     0.0     0.0           0.362967  \n",
       "29996     0.0     1.0     0.0     0.0     0.0     0.0           0.362967  \n",
       "29997     0.0     1.0     0.0     0.0     0.0     0.0           0.362967  \n",
       "29998     0.0     1.0     0.0     0.0     0.0     0.0           0.362967  \n",
       "29999     0.0     1.0     0.0     0.0     0.0     0.0           0.362967  \n",
       "\n",
       "[30000 rows x 126 columns]"
      ]
     },
     "execution_count": 16,
     "metadata": {},
     "output_type": "execute_result"
    }
   ],
   "source": [
    "feature_df_onehot = neonatal_df[feature_cols_onehot]\n",
    "feature_df_onehot"
   ]
  },
  {
   "cell_type": "markdown",
   "metadata": {},
   "source": [
    "Feature DataFrame with Country encoded via Mean Encoding"
   ]
  },
  {
   "cell_type": "code",
   "execution_count": 17,
   "metadata": {
    "ExecuteTime": {
     "end_time": "2021-05-01T12:16:34.110412Z",
     "start_time": "2021-05-01T12:16:34.086355Z"
    }
   },
   "outputs": [
    {
     "data": {
      "text/html": [
       "<div>\n",
       "<style scoped>\n",
       "    .dataframe tbody tr th:only-of-type {\n",
       "        vertical-align: middle;\n",
       "    }\n",
       "\n",
       "    .dataframe tbody tr th {\n",
       "        vertical-align: top;\n",
       "    }\n",
       "\n",
       "    .dataframe thead th {\n",
       "        text-align: right;\n",
       "    }\n",
       "</style>\n",
       "<table border=\"1\" class=\"dataframe\">\n",
       "  <thead>\n",
       "    <tr style=\"text-align: right;\">\n",
       "      <th></th>\n",
       "      <th>Value</th>\n",
       "      <th>region_cat</th>\n",
       "      <th>income_group_cat</th>\n",
       "      <th>country_encd_mean</th>\n",
       "    </tr>\n",
       "  </thead>\n",
       "  <tbody>\n",
       "    <tr>\n",
       "      <th>0</th>\n",
       "      <td>4356.749023</td>\n",
       "      <td>2</td>\n",
       "      <td>1</td>\n",
       "      <td>3961.924645</td>\n",
       "    </tr>\n",
       "    <tr>\n",
       "      <th>1</th>\n",
       "      <td>15645.974609</td>\n",
       "      <td>2</td>\n",
       "      <td>1</td>\n",
       "      <td>3961.924645</td>\n",
       "    </tr>\n",
       "    <tr>\n",
       "      <th>2</th>\n",
       "      <td>2904.053467</td>\n",
       "      <td>2</td>\n",
       "      <td>1</td>\n",
       "      <td>3961.924645</td>\n",
       "    </tr>\n",
       "    <tr>\n",
       "      <th>3</th>\n",
       "      <td>654.522766</td>\n",
       "      <td>2</td>\n",
       "      <td>1</td>\n",
       "      <td>3961.924645</td>\n",
       "    </tr>\n",
       "    <tr>\n",
       "      <th>4</th>\n",
       "      <td>0.000000</td>\n",
       "      <td>2</td>\n",
       "      <td>1</td>\n",
       "      <td>3961.924645</td>\n",
       "    </tr>\n",
       "    <tr>\n",
       "      <th>...</th>\n",
       "      <td>...</td>\n",
       "      <td>...</td>\n",
       "      <td>...</td>\n",
       "      <td>...</td>\n",
       "    </tr>\n",
       "    <tr>\n",
       "      <th>29995</th>\n",
       "      <td>0.000000</td>\n",
       "      <td>5</td>\n",
       "      <td>3</td>\n",
       "      <td>0.362967</td>\n",
       "    </tr>\n",
       "    <tr>\n",
       "      <th>29996</th>\n",
       "      <td>0.000000</td>\n",
       "      <td>5</td>\n",
       "      <td>3</td>\n",
       "      <td>0.362967</td>\n",
       "    </tr>\n",
       "    <tr>\n",
       "      <th>29997</th>\n",
       "      <td>0.240370</td>\n",
       "      <td>5</td>\n",
       "      <td>3</td>\n",
       "      <td>0.362967</td>\n",
       "    </tr>\n",
       "    <tr>\n",
       "      <th>29998</th>\n",
       "      <td>0.003885</td>\n",
       "      <td>5</td>\n",
       "      <td>3</td>\n",
       "      <td>0.362967</td>\n",
       "    </tr>\n",
       "    <tr>\n",
       "      <th>29999</th>\n",
       "      <td>2.162163</td>\n",
       "      <td>5</td>\n",
       "      <td>3</td>\n",
       "      <td>0.362967</td>\n",
       "    </tr>\n",
       "  </tbody>\n",
       "</table>\n",
       "<p>30000 rows × 4 columns</p>\n",
       "</div>"
      ],
      "text/plain": [
       "              Value  region_cat  income_group_cat country_encd_mean\n",
       "0       4356.749023           2                 1       3961.924645\n",
       "1      15645.974609           2                 1       3961.924645\n",
       "2       2904.053467           2                 1       3961.924645\n",
       "3        654.522766           2                 1       3961.924645\n",
       "4          0.000000           2                 1       3961.924645\n",
       "...             ...         ...               ...               ...\n",
       "29995      0.000000           5                 3          0.362967\n",
       "29996      0.000000           5                 3          0.362967\n",
       "29997      0.240370           5                 3          0.362967\n",
       "29998      0.003885           5                 3          0.362967\n",
       "29999      2.162163           5                 3          0.362967\n",
       "\n",
       "[30000 rows x 4 columns]"
      ]
     },
     "execution_count": 17,
     "metadata": {},
     "output_type": "execute_result"
    }
   ],
   "source": [
    "feature_df_mean = neonatal_df[feature_cols_mean_encodng]\n",
    "feature_df_mean"
   ]
  },
  {
   "cell_type": "markdown",
   "metadata": {},
   "source": [
    "### KNN Classification"
   ]
  },
  {
   "cell_type": "markdown",
   "metadata": {},
   "source": [
    "#### Without Scaling"
   ]
  },
  {
   "cell_type": "markdown",
   "metadata": {},
   "source": [
    "##### On Label Encoded Data"
   ]
  },
  {
   "cell_type": "code",
   "execution_count": 18,
   "metadata": {
    "ExecuteTime": {
     "end_time": "2021-05-01T12:16:43.910553Z",
     "start_time": "2021-05-01T12:16:43.106505Z"
    }
   },
   "outputs": [
    {
     "data": {
      "text/plain": [
       "(0.38866666666666666,\n",
       " 0.3872247195870629,\n",
       " 0.3894412888170187,\n",
       " 0.39578061143900717)"
      ]
     },
     "execution_count": 18,
     "metadata": {},
     "output_type": "execute_result"
    }
   ],
   "source": [
    "x_train, x_test, y_train, y_test = train_test_split(feature_df_label,\n",
    "                                                          neonatal_df['cause_cat'],\n",
    "                                                          test_size=0.3,\n",
    "                                                          random_state=50)\\\n",
    "#Create KNN Classifier\n",
    "knn = KNeighborsClassifier(n_neighbors=5)\n",
    "\n",
    "#Train the model using the training sets\n",
    "knn.fit(x_train, y_train)\n",
    "train_pred = knn.predict(x_train)\n",
    "y_pred = knn.predict(x_test)\n",
    "# print(\"Train Accuracy\", metrics.accuracy_score(y_train, train_pred))\n",
    "# print(\"Test Accuracy\", metrics.accuracy_score(y_test, y_pred))\n",
    "# pd.DataFrame(confusion_matrix(y_test, y_pred))\n",
    "acc_uns_lbl = metrics.accuracy_score(y_test, y_pred)\n",
    "f1_score_uns_lbl = metrics.f1_score(y_test, y_pred, average='macro')\n",
    "recall_score_uns_lbl = metrics.recall_score(y_test, y_pred, average='macro')\n",
    "precision_score_uns_lbl = metrics.precision_score(y_test, y_pred, average='macro')\n",
    "acc_uns_lbl,f1_score_uns_lbl, recall_score_uns_lbl, precision_score_uns_lbl"
   ]
  },
  {
   "cell_type": "markdown",
   "metadata": {},
   "source": [
    "##### On OneHot Encoded Data"
   ]
  },
  {
   "cell_type": "code",
   "execution_count": 19,
   "metadata": {
    "ExecuteTime": {
     "end_time": "2021-05-01T12:17:01.615334Z",
     "start_time": "2021-05-01T12:16:47.414899Z"
    }
   },
   "outputs": [
    {
     "data": {
      "text/plain": [
       "(0.4242222222222222,\n",
       " 0.4281899804747124,\n",
       " 0.42371179933144365,\n",
       " 0.4541614703231968)"
      ]
     },
     "execution_count": 19,
     "metadata": {},
     "output_type": "execute_result"
    }
   ],
   "source": [
    "x_train, x_test, y_train, y_test = train_test_split(feature_df_onehot,\n",
    "                                                          neonatal_df['cause_cat'],\n",
    "                                                          test_size=0.3,\n",
    "                                                          random_state=50)\n",
    "#Create KNN Classifier\n",
    "knn = KNeighborsClassifier(n_neighbors=5)\n",
    "\n",
    "#Train the model using the training sets\n",
    "knn.fit(x_train, y_train)\n",
    "train_pred = knn.predict(x_train)\n",
    "y_pred = knn.predict(x_test)\n",
    "# print(\"Train Accuracy\", metrics.accuracy_score(y_train, train_pred))\n",
    "# print(\"Test Accuracy\", metrics.accuracy_score(y_test, y_pred))\n",
    "pd.DataFrame(confusion_matrix(y_test, y_pred))\n",
    "\n",
    "acc_uns_ohe = metrics.accuracy_score(y_test, y_pred)\n",
    "f1_score_uns_ohe = metrics.f1_score(y_test, y_pred, average='macro')\n",
    "recall_score_uns_ohe = metrics.recall_score(y_test, y_pred, average='macro')\n",
    "precision_score_uns_ohe = metrics.precision_score(y_test, y_pred, average='macro')\n",
    "\n",
    "acc_uns_ohe,f1_score_uns_ohe, recall_score_uns_ohe, precision_score_uns_ohe"
   ]
  },
  {
   "cell_type": "markdown",
   "metadata": {},
   "source": [
    "##### On MeanEncoded Data"
   ]
  },
  {
   "cell_type": "code",
   "execution_count": 20,
   "metadata": {
    "ExecuteTime": {
     "end_time": "2021-05-01T12:18:06.432255Z",
     "start_time": "2021-05-01T12:18:05.591760Z"
    }
   },
   "outputs": [
    {
     "data": {
      "text/plain": [
       "(0.4988888888888889, 0.495797026545249, 0.4986781888911546, 0.5006143695228038)"
      ]
     },
     "execution_count": 20,
     "metadata": {},
     "output_type": "execute_result"
    }
   ],
   "source": [
    "x_train, x_test, y_train, y_test = train_test_split(feature_df_mean,\n",
    "                                                          neonatal_df['cause_cat'],\n",
    "                                                          test_size=0.3,\n",
    "                                                          random_state=50)\\\n",
    "#Create KNN Classifier\n",
    "knn = KNeighborsClassifier(n_neighbors=5)\n",
    "\n",
    "#Train the model using the training sets\n",
    "knn.fit(x_train, y_train)\n",
    "train_pred = knn.predict(x_train)\n",
    "y_pred = knn.predict(x_test)\n",
    "# print(\"Train Accuracy\", metrics.accuracy_score(y_train, train_pred))\n",
    "# print(\"Test Accuracy\", metrics.accuracy_score(y_test, y_pred))\n",
    "pd.DataFrame(confusion_matrix(y_test, y_pred))\n",
    "acc_uns_mne = metrics.accuracy_score(y_test, y_pred)\n",
    "f1_score_uns_mne = metrics.f1_score(y_test, y_pred, average='macro')\n",
    "recall_score_uns_mne = metrics.recall_score(y_test, y_pred, average='macro')\n",
    "precision_score_uns_mne = metrics.precision_score(y_test, y_pred, average='macro')\n",
    "\n",
    "acc_uns_mne,f1_score_uns_mne, recall_score_uns_mne, precision_score_uns_mne"
   ]
  },
  {
   "cell_type": "markdown",
   "metadata": {},
   "source": [
    "#### With Scaled Data"
   ]
  },
  {
   "cell_type": "code",
   "execution_count": 21,
   "metadata": {
    "ExecuteTime": {
     "end_time": "2021-05-01T12:18:19.703764Z",
     "start_time": "2021-05-01T12:18:19.674567Z"
    }
   },
   "outputs": [],
   "source": [
    "scaler = StandardScaler()\n",
    "scaler.fit(neonatal_df['Value'].values.reshape(-1,1))\n",
    "X = scaler.transform(neonatal_df['Value'].values.reshape(-1,1))\n"
   ]
  },
  {
   "cell_type": "markdown",
   "metadata": {},
   "source": [
    "##### On Label Encoded Data"
   ]
  },
  {
   "cell_type": "code",
   "execution_count": 22,
   "metadata": {
    "ExecuteTime": {
     "end_time": "2021-05-01T12:19:37.536426Z",
     "start_time": "2021-05-01T12:19:36.694606Z"
    }
   },
   "outputs": [
    {
     "name": "stderr",
     "output_type": "stream",
     "text": [
      "<ipython-input-22-676ce23dbe4d>:1: SettingWithCopyWarning: \n",
      "A value is trying to be set on a copy of a slice from a DataFrame.\n",
      "Try using .loc[row_indexer,col_indexer] = value instead\n",
      "\n",
      "See the caveats in the documentation: https://pandas.pydata.org/pandas-docs/stable/user_guide/indexing.html#returning-a-view-versus-a-copy\n",
      "  feature_df_label['values_scaled'] = X\n"
     ]
    },
    {
     "name": "stdout",
     "output_type": "stream",
     "text": [
      "Train Accuracy 0.6048571428571429\n",
      "Test Accuracy 0.5197777777777778\n"
     ]
    },
    {
     "data": {
      "text/plain": [
       "(0.5197777777777778,\n",
       " 0.5182399312167318,\n",
       " 0.5201089894952005,\n",
       " 0.5305985594829169)"
      ]
     },
     "execution_count": 22,
     "metadata": {},
     "output_type": "execute_result"
    }
   ],
   "source": [
    "feature_df_label['values_scaled'] = X\n",
    "feature_df_label_new = feature_df_label[feature_df_label.columns[1:]]\n",
    "x_train, x_test, y_train, y_test = train_test_split(feature_df_label_new,\n",
    "                                                          neonatal_df['cause_cat'],\n",
    "                                                          test_size=0.3,\n",
    "                                                          random_state=50)\\\n",
    "#Create KNN Classifier\n",
    "knn = KNeighborsClassifier(n_neighbors=5)\n",
    "\n",
    "#Train the model using the training sets\n",
    "knn.fit(x_train, y_train)\n",
    "train_pred = knn.predict(x_train)\n",
    "y_pred = knn.predict(x_test)\n",
    "print(\"Train Accuracy\", metrics.accuracy_score(y_train, train_pred))\n",
    "print(\"Test Accuracy\", metrics.accuracy_score(y_test, y_pred))\n",
    "pd.DataFrame(confusion_matrix(y_test, y_pred))\n",
    "acc_uns_lbl_en = metrics.accuracy_score(y_test, y_pred)\n",
    "f1_score_uns_lbl_en = metrics.f1_score(y_test, y_pred, average='macro')\n",
    "recall_score_uns_lbl_en = metrics.recall_score(y_test, y_pred, average='macro')\n",
    "precision_score_uns_lbl_en = metrics.precision_score(y_test, y_pred, average='macro')\n",
    "\n",
    "acc_uns_lbl_en,f1_score_uns_lbl_en, recall_score_uns_lbl_en, precision_score_uns_lbl_en"
   ]
  },
  {
   "cell_type": "markdown",
   "metadata": {},
   "source": [
    "##### On OneHot Encoded Data"
   ]
  },
  {
   "cell_type": "code",
   "execution_count": 24,
   "metadata": {
    "ExecuteTime": {
     "end_time": "2021-05-01T12:20:29.512917Z",
     "start_time": "2021-05-01T12:20:14.675807Z"
    }
   },
   "outputs": [
    {
     "name": "stderr",
     "output_type": "stream",
     "text": [
      "<ipython-input-24-3dd0a4acff8c>:1: SettingWithCopyWarning: \n",
      "A value is trying to be set on a copy of a slice from a DataFrame.\n",
      "Try using .loc[row_indexer,col_indexer] = value instead\n",
      "\n",
      "See the caveats in the documentation: https://pandas.pydata.org/pandas-docs/stable/user_guide/indexing.html#returning-a-view-versus-a-copy\n",
      "  feature_df_onehot['values_scaled'] = X\n"
     ]
    },
    {
     "name": "stdout",
     "output_type": "stream",
     "text": [
      "Train Accuracy 0.5927142857142857\n",
      "Test Accuracy 0.5114444444444445\n"
     ]
    },
    {
     "data": {
      "text/plain": [
       "(0.5114444444444445, 0.509786897728635, 0.511467753833105, 0.5144697621385418)"
      ]
     },
     "execution_count": 24,
     "metadata": {},
     "output_type": "execute_result"
    }
   ],
   "source": [
    "feature_df_onehot['values_scaled'] = X\n",
    "feature_df_onehot_new = feature_df_onehot[feature_df_onehot.columns[1:]]\n",
    "x_train, x_test, y_train, y_test = train_test_split(feature_df_onehot_new,\n",
    "                                                          neonatal_df['cause_cat'],\n",
    "                                                          test_size=0.3,\n",
    "                                                          random_state=50)\\\n",
    "#Create KNN Classifier\n",
    "knn = KNeighborsClassifier(n_neighbors=5)\n",
    "\n",
    "#Train the model using the training sets\n",
    "knn.fit(x_train, y_train)\n",
    "train_pred = knn.predict(x_train)\n",
    "y_pred = knn.predict(x_test)\n",
    "print(\"Train Accuracy\", metrics.accuracy_score(y_train, train_pred))\n",
    "print(\"Test Accuracy\", metrics.accuracy_score(y_test, y_pred))\n",
    "pd.DataFrame(confusion_matrix(y_test, y_pred))\n",
    "acc_uns_ohe_sc = metrics.accuracy_score(y_test, y_pred)\n",
    "f1_score_uns_ohe_sc = metrics.f1_score(y_test, y_pred, average='macro')\n",
    "recall_score_uns_ohe_sc = metrics.recall_score(y_test, y_pred, average='macro')\n",
    "precision_score_uns_ohe_sc = metrics.precision_score(y_test, y_pred, average='macro')\n",
    "\n",
    "acc_uns_ohe_sc,f1_score_uns_ohe_sc, recall_score_uns_ohe_sc, precision_score_uns_ohe_sc"
   ]
  },
  {
   "cell_type": "markdown",
   "metadata": {},
   "source": [
    "##### On MeanEncoded Data"
   ]
  },
  {
   "cell_type": "code",
   "execution_count": 25,
   "metadata": {
    "ExecuteTime": {
     "end_time": "2021-05-01T12:20:57.705823Z",
     "start_time": "2021-05-01T12:20:56.780218Z"
    }
   },
   "outputs": [
    {
     "name": "stderr",
     "output_type": "stream",
     "text": [
      "<ipython-input-25-b69be1dd187a>:1: SettingWithCopyWarning: \n",
      "A value is trying to be set on a copy of a slice from a DataFrame.\n",
      "Try using .loc[row_indexer,col_indexer] = value instead\n",
      "\n",
      "See the caveats in the documentation: https://pandas.pydata.org/pandas-docs/stable/user_guide/indexing.html#returning-a-view-versus-a-copy\n",
      "  feature_df_mean['values_scaled'] = X\n"
     ]
    },
    {
     "name": "stdout",
     "output_type": "stream",
     "text": [
      "Train Accuracy 0.6044761904761905\n",
      "Test Accuracy 0.5208888888888888\n"
     ]
    },
    {
     "data": {
      "text/plain": [
       "(0.5208888888888888, 0.5187042545121984, 0.520888933690636, 0.5258915832309973)"
      ]
     },
     "execution_count": 25,
     "metadata": {},
     "output_type": "execute_result"
    }
   ],
   "source": [
    "feature_df_mean['values_scaled'] = X\n",
    "feature_df_mean_new = feature_df_mean[feature_df_mean.columns[1:]]\n",
    "x_train, x_test, y_train, y_test = train_test_split(feature_df_mean_new,\n",
    "                                                          neonatal_df['cause_cat'],\n",
    "                                                          test_size=0.3,\n",
    "                                                          random_state=50)\\\n",
    "#Create KNN Classifier\n",
    "knn = KNeighborsClassifier(n_neighbors=5)\n",
    "\n",
    "#Train the model using the training sets\n",
    "knn.fit(x_train, y_train)\n",
    "train_pred = knn.predict(x_train)\n",
    "y_pred = knn.predict(x_test)\n",
    "print(\"Train Accuracy\", metrics.accuracy_score(y_train, train_pred))\n",
    "print(\"Test Accuracy\", metrics.accuracy_score(y_test, y_pred))\n",
    "pd.DataFrame(confusion_matrix(y_test, y_pred))\n",
    "acc_uns_mne_sc = metrics.accuracy_score(y_test, y_pred)\n",
    "f1_score_uns_mne_sc = metrics.f1_score(y_test, y_pred, average='macro')\n",
    "recall_score_uns_mne_sc = metrics.recall_score(y_test, y_pred, average='macro')\n",
    "precision_score_uns_mne_sc = metrics.precision_score(y_test, y_pred, average='macro')\n",
    "\n",
    "acc_uns_mne_sc,f1_score_uns_mne_sc, recall_score_uns_mne_sc, precision_score_uns_mne_sc"
   ]
  },
  {
   "cell_type": "markdown",
   "metadata": {},
   "source": [
    "### Combined Results"
   ]
  },
  {
   "cell_type": "code",
   "execution_count": 36,
   "metadata": {
    "ExecuteTime": {
     "end_time": "2021-05-01T12:27:17.262616Z",
     "start_time": "2021-05-01T12:27:17.228271Z"
    }
   },
   "outputs": [],
   "source": [
    "results_array = np.array([acc_uns_lbl,f1_score_uns_lbl, recall_score_uns_lbl, precision_score_uns_lbl,\n",
    "acc_uns_ohe,f1_score_uns_ohe, recall_score_uns_ohe, precision_score_uns_ohe,\n",
    "acc_uns_mne,f1_score_uns_mne, recall_score_uns_mne, precision_score_uns_mne,\n",
    "acc_uns_lbl_en,f1_score_uns_lbl_en, recall_score_uns_lbl_en, precision_score_uns_lbl_en,\n",
    "acc_uns_ohe_sc,f1_score_uns_ohe_sc, recall_score_uns_ohe_sc, precision_score_uns_ohe_sc,\n",
    "acc_uns_mne_sc,f1_score_uns_mne_sc, recall_score_uns_mne_sc, precision_score_uns_mne_sc]).reshape(6,4)\n",
    "\n",
    "results_df = pd.DataFrame(results_array, columns = ['Accuracy', 'F1 Score', 'Recall', 'Precision'], index=['Label Encoded', 'OneHot Encoded', 'MeanEncoded', 'Label Encoded Scaled', 'OneHot Encoded Scaled', 'MeanEncoded Scaled'])"
   ]
  },
  {
   "cell_type": "code",
   "execution_count": 37,
   "metadata": {
    "ExecuteTime": {
     "end_time": "2021-05-01T12:27:18.826762Z",
     "start_time": "2021-05-01T12:27:18.801110Z"
    }
   },
   "outputs": [
    {
     "data": {
      "text/html": [
       "<div>\n",
       "<style scoped>\n",
       "    .dataframe tbody tr th:only-of-type {\n",
       "        vertical-align: middle;\n",
       "    }\n",
       "\n",
       "    .dataframe tbody tr th {\n",
       "        vertical-align: top;\n",
       "    }\n",
       "\n",
       "    .dataframe thead th {\n",
       "        text-align: right;\n",
       "    }\n",
       "</style>\n",
       "<table border=\"1\" class=\"dataframe\">\n",
       "  <thead>\n",
       "    <tr style=\"text-align: right;\">\n",
       "      <th></th>\n",
       "      <th>Accuracy</th>\n",
       "      <th>F1 Score</th>\n",
       "      <th>Recall</th>\n",
       "      <th>Precision</th>\n",
       "    </tr>\n",
       "  </thead>\n",
       "  <tbody>\n",
       "    <tr>\n",
       "      <th>Label Encoded</th>\n",
       "      <td>0.388667</td>\n",
       "      <td>0.387225</td>\n",
       "      <td>0.389441</td>\n",
       "      <td>0.395781</td>\n",
       "    </tr>\n",
       "    <tr>\n",
       "      <th>OneHot Encoded</th>\n",
       "      <td>0.424222</td>\n",
       "      <td>0.428190</td>\n",
       "      <td>0.423712</td>\n",
       "      <td>0.454161</td>\n",
       "    </tr>\n",
       "    <tr>\n",
       "      <th>MeanEncoded</th>\n",
       "      <td>0.498889</td>\n",
       "      <td>0.495797</td>\n",
       "      <td>0.498678</td>\n",
       "      <td>0.500614</td>\n",
       "    </tr>\n",
       "    <tr>\n",
       "      <th>Label Encoded Scaled</th>\n",
       "      <td>0.519778</td>\n",
       "      <td>0.518240</td>\n",
       "      <td>0.520109</td>\n",
       "      <td>0.530599</td>\n",
       "    </tr>\n",
       "    <tr>\n",
       "      <th>OneHot Encoded Scaled</th>\n",
       "      <td>0.511444</td>\n",
       "      <td>0.509787</td>\n",
       "      <td>0.511468</td>\n",
       "      <td>0.514470</td>\n",
       "    </tr>\n",
       "    <tr>\n",
       "      <th>MeanEncoded Scaled</th>\n",
       "      <td>0.520889</td>\n",
       "      <td>0.518704</td>\n",
       "      <td>0.520889</td>\n",
       "      <td>0.525892</td>\n",
       "    </tr>\n",
       "  </tbody>\n",
       "</table>\n",
       "</div>"
      ],
      "text/plain": [
       "                       Accuracy  F1 Score    Recall  Precision\n",
       "Label Encoded          0.388667  0.387225  0.389441   0.395781\n",
       "OneHot Encoded         0.424222  0.428190  0.423712   0.454161\n",
       "MeanEncoded            0.498889  0.495797  0.498678   0.500614\n",
       "Label Encoded Scaled   0.519778  0.518240  0.520109   0.530599\n",
       "OneHot Encoded Scaled  0.511444  0.509787  0.511468   0.514470\n",
       "MeanEncoded Scaled     0.520889  0.518704  0.520889   0.525892"
      ]
     },
     "execution_count": 37,
     "metadata": {},
     "output_type": "execute_result"
    }
   ],
   "source": [
    "results_df"
   ]
  },
  {
   "cell_type": "markdown",
   "metadata": {},
   "source": [
    "### Random Forest "
   ]
  },
  {
   "cell_type": "markdown",
   "metadata": {},
   "source": [
    "#### Mean Encoded Data"
   ]
  },
  {
   "cell_type": "code",
   "execution_count": 48,
   "metadata": {
    "ExecuteTime": {
     "end_time": "2021-05-01T19:43:17.426232Z",
     "start_time": "2021-05-01T19:43:17.406230Z"
    }
   },
   "outputs": [],
   "source": [
    "feature_df_mean['values_scaled'] = X\n",
    "feature_df_mean_new = feature_df_mean[feature_df_mean.columns[1:]]"
   ]
  },
  {
   "cell_type": "code",
   "execution_count": null,
   "metadata": {
    "ExecuteTime": {
     "end_time": "2021-04-21T18:12:27.363967Z",
     "start_time": "2021-04-21T18:12:27.344952Z"
    }
   },
   "outputs": [],
   "source": [
    "feature_df_mean_new"
   ]
  },
  {
   "cell_type": "code",
   "execution_count": 49,
   "metadata": {
    "ExecuteTime": {
     "end_time": "2021-05-01T19:43:43.116594Z",
     "start_time": "2021-05-01T19:43:19.026872Z"
    },
    "scrolled": false
   },
   "outputs": [
    {
     "name": "stdout",
     "output_type": "stream",
     "text": [
      "Average number of nodes 8586\n",
      "Average maximum depth 27\n",
      "Training Accuracy 0.77\n",
      "Test Accuracy 0.46444444444444444\n"
     ]
    }
   ],
   "source": [
    "\n",
    "x_train, x_test, y_train, y_test = train_test_split(feature_df_mean_new,\n",
    "                                                          neonatal_df['cause_cat'],\n",
    "                                                          test_size=0.3,\n",
    "                                                          random_state=50)\n",
    "model = RandomForestClassifier(n_estimators=1000, \n",
    "                               random_state=50)\n",
    "\n",
    "# Fit on training data\n",
    "model.fit(x_train, y_train)\n",
    "\n",
    "\n",
    "n_nodes = []\n",
    "max_depths = []\n",
    "\n",
    "# Stats about the trees in random forest\n",
    "for ind_tree in model.estimators_:\n",
    "    n_nodes.append(ind_tree.tree_.node_count)\n",
    "    max_depths.append(ind_tree.tree_.max_depth)\n",
    "    \n",
    "print(f'Average number of nodes {int(np.mean(n_nodes))}')\n",
    "print(f'Average maximum depth {int(np.mean(max_depths))}')\n",
    "\n",
    "# Training predictions (to demonstrate overfitting)\n",
    "train_rf_predictions = model.predict(x_train)\n",
    "print(\"Training Accuracy\",metrics.accuracy_score(y_train, train_rf_predictions))\n",
    "#\n",
    "y_pred_rf = model.predict(x_test)\n",
    "# rf_probs = model.predict_proba(test)[:, 1]\n",
    "print(\"Test Accuracy\",metrics.accuracy_score(y_test, y_pred_rf))"
   ]
  }
 ],
 "metadata": {
  "kernelspec": {
   "display_name": "Python 3",
   "language": "python",
   "name": "python3"
  },
  "language_info": {
   "codemirror_mode": {
    "name": "ipython",
    "version": 3
   },
   "file_extension": ".py",
   "mimetype": "text/x-python",
   "name": "python",
   "nbconvert_exporter": "python",
   "pygments_lexer": "ipython3",
   "version": "3.8.5"
  },
  "toc": {
   "base_numbering": 1,
   "nav_menu": {},
   "number_sections": true,
   "sideBar": true,
   "skip_h1_title": false,
   "title_cell": "Table of Contents",
   "title_sidebar": "Contents",
   "toc_cell": false,
   "toc_position": {
    "height": "calc(100% - 180px)",
    "left": "10px",
    "top": "150px",
    "width": "341.333px"
   },
   "toc_section_display": true,
   "toc_window_display": true
  }
 },
 "nbformat": 4,
 "nbformat_minor": 4
}
